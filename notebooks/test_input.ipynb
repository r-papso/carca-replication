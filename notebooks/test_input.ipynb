{
 "cells": [
  {
   "cell_type": "code",
   "execution_count": 1,
   "metadata": {},
   "outputs": [],
   "source": [
    "import sys\n",
    "import pickle\n",
    "import random\n",
    "import numpy as np\n",
    "from collections import defaultdict"
   ]
  },
  {
   "cell_type": "code",
   "execution_count": 2,
   "metadata": {},
   "outputs": [],
   "source": [
    "sys.path.append(\"..\")"
   ]
  },
  {
   "cell_type": "code",
   "execution_count": 3,
   "metadata": {},
   "outputs": [],
   "source": [
    "from carca.data import CARCADataset, load_attrs, load_ctx, load_profiles"
   ]
  },
  {
   "cell_type": "code",
   "execution_count": 4,
   "metadata": {},
   "outputs": [],
   "source": [
    "def load_data(filename):\n",
    "    try:\n",
    "        with open(filename, \"rb\") as f:\n",
    "            x = pickle.load(f)\n",
    "    except:\n",
    "        x = []\n",
    "    return x"
   ]
  },
  {
   "cell_type": "code",
   "execution_count": 5,
   "metadata": {},
   "outputs": [],
   "source": [
    "def data_partition(fname):\n",
    "    usernum = 0\n",
    "    itemnum = 0\n",
    "    User = defaultdict(list)\n",
    "    user_train = {}\n",
    "    user_valid = {}\n",
    "    user_test = {}\n",
    "    # assume user/item index starting from 1\n",
    "    f = open(\"../../data/%s.txt\" % fname, \"r\")\n",
    "    for line in f:\n",
    "        u, i = line.rstrip().split(\" \")\n",
    "        u = int(u)\n",
    "        i = int(i)\n",
    "        usernum = max(u, usernum)\n",
    "        itemnum = max(i, itemnum)\n",
    "        User[u].append(i)\n",
    "\n",
    "    for user in User:\n",
    "        nfeedback = len(User[user])\n",
    "        if nfeedback < 3:\n",
    "            user_train[user] = User[user]\n",
    "            user_valid[user] = []\n",
    "            user_test[user] = []\n",
    "        else:\n",
    "            user_train[user] = User[user][:-2]\n",
    "            user_valid[user] = []\n",
    "            user_valid[user].append(User[user][-2])\n",
    "            user_test[user] = []\n",
    "            user_test[user].append(User[user][-1])\n",
    "    return (user_train, user_valid, user_test, usernum, itemnum)"
   ]
  },
  {
   "cell_type": "code",
   "execution_count": 6,
   "metadata": {},
   "outputs": [],
   "source": [
    "def get_ItemDataGames(itemnum):\n",
    "    ItemFeatures = load_data(\"../../data/video_games_attrs.dat\")\n",
    "    ItemFeatures = np.vstack((np.zeros(ItemFeatures.shape[1]), ItemFeatures))\n",
    "    return ItemFeatures"
   ]
  },
  {
   "cell_type": "code",
   "execution_count": 7,
   "metadata": {},
   "outputs": [],
   "source": [
    "def random_neq(l, r, s):\n",
    "    t = np.random.randint(l, r)\n",
    "    while t in s:\n",
    "        t = np.random.randint(l, r)\n",
    "    return t"
   ]
  },
  {
   "cell_type": "code",
   "execution_count": 8,
   "metadata": {},
   "outputs": [],
   "source": [
    "def sample_function(user_train, usernum, itemnum, cxtdict, cxtsize, maxlen):\n",
    "    user = np.random.randint(1, usernum + 1)\n",
    "    while len(user_train[user]) <= 1:\n",
    "        user = np.random.randint(1, usernum + 1)\n",
    "\n",
    "    seq = np.zeros([maxlen], dtype=np.int32)\n",
    "    pos = np.zeros([maxlen], dtype=np.int32)\n",
    "    neg = np.zeros([maxlen], dtype=np.int32)\n",
    "    ###CXT\n",
    "    seqcxt = np.zeros([maxlen, cxtsize], dtype=np.float32)\n",
    "    poscxt = np.zeros([maxlen, cxtsize], dtype=np.float32)\n",
    "    negcxt = np.zeros([maxlen, cxtsize], dtype=np.float32)\n",
    "    ###\n",
    "\n",
    "    nxt = user_train[user][-1]\n",
    "    idx = maxlen - 1\n",
    "\n",
    "    ts = set(user_train[user])\n",
    "    for i in reversed(user_train[user][:-1]):\n",
    "\n",
    "        seq[idx] = i\n",
    "        pos[idx] = nxt\n",
    "        neg_i = 0\n",
    "        if nxt != 0:\n",
    "            neg_i = random_neq(1, itemnum + 1, ts)\n",
    "            neg[idx] = neg_i\n",
    "        ###CXT\n",
    "        seqcxt[idx] = cxtdict[(user, i)]\n",
    "        poscxt[idx] = cxtdict[(user, nxt)]\n",
    "        negcxt[idx] = cxtdict[(user, nxt)]\n",
    "        ###\n",
    "\n",
    "        nxt = i\n",
    "        idx -= 1\n",
    "        if idx == -1:\n",
    "            break\n",
    "\n",
    "    return (np.ones(maxlen) * user, seq, pos, neg, seqcxt, poscxt, negcxt)"
   ]
  },
  {
   "cell_type": "code",
   "execution_count": 19,
   "metadata": {},
   "outputs": [],
   "source": [
    "def test_sample(train, valid, test, usernum, itemnum, seq_len, cxtdict, cxtsize, negnum=100):\n",
    "    u = np.random.randint(1, usernum + 1)\n",
    "    while len(train[u]) < 1 or len(test[u]) < 1:\n",
    "        u = np.random.randint(1, usernum + 1)\n",
    "\n",
    "    seq = np.zeros([seq_len], dtype=np.int32)\n",
    "    seqcxt = np.zeros([seq_len, cxtsize], dtype=np.float32)\n",
    "    testitemscxt = list()\n",
    "    idx = seq_len - 1\n",
    "    seq[idx] = valid[u][0]\n",
    "    # Cxt\n",
    "    seqcxt[idx] = cxtdict[(u, valid[u][0])]\n",
    "\n",
    "    idx -= 1\n",
    "    for i in reversed(train[u]):\n",
    "        seq[idx] = i\n",
    "        # Cxt\n",
    "        seqcxt[idx] = cxtdict[(u, i)]\n",
    "\n",
    "        idx -= 1\n",
    "        if idx == -1:\n",
    "            break\n",
    "\n",
    "    rated = set(train[u])\n",
    "    rated.add(0)\n",
    "    item_idx = [test[u][0]]\n",
    "    testitemscxt.append(cxtdict[(u, test[u][0])])\n",
    "    for _ in range(negnum):\n",
    "        t = np.random.randint(1, itemnum + 1)\n",
    "        while t in rated:\n",
    "            t = np.random.randint(1, itemnum + 1)\n",
    "        item_idx.append(t)\n",
    "        testitemscxt.append(cxtdict[(u, test[u][0])])\n",
    "    \n",
    "    return np.ones(seq_len) * u, seq, item_idx, seqcxt, np.array(testitemscxt)"
   ]
  },
  {
   "cell_type": "code",
   "execution_count": 20,
   "metadata": {},
   "outputs": [],
   "source": [
    "def val_sample(train, valid, usernum, itemnum, seq_len, cxtdict, cxtsize, negnum=100):\n",
    "    u = np.random.randint(1, usernum + 1)\n",
    "    while len(train[u]) < 1 or len(valid[u]) < 1:\n",
    "        u = np.random.randint(1, usernum + 1)\n",
    "\n",
    "    seq = np.zeros([seq_len], dtype=np.int32)\n",
    "    seqcxt = np.zeros([seq_len, cxtsize], dtype=np.float32)\n",
    "    testitemscxt = list()\n",
    "    idx = seq_len - 1\n",
    "    for i in reversed(train[u]):\n",
    "        seq[idx] = i\n",
    "        # cxt\n",
    "        seqcxt[idx] = cxtdict[(u, i)]\n",
    "        idx -= 1\n",
    "        if idx == -1:\n",
    "            break\n",
    "\n",
    "    rated = set(train[u])\n",
    "    rated.add(0)\n",
    "    item_idx = [valid[u][0]]\n",
    "    testitemscxt.append(cxtdict[(u, valid[u][0])])\n",
    "    for _ in range(negnum):\n",
    "        t = np.random.randint(1, itemnum + 1)\n",
    "        while t in rated:\n",
    "            t = np.random.randint(1, itemnum + 1)\n",
    "        item_idx.append(t)\n",
    "        testitemscxt.append(cxtdict[(u, valid[u][0])])\n",
    "    \n",
    "    return np.ones(seq_len) * u, seq, item_idx, seqcxt, np.array(testitemscxt)"
   ]
  },
  {
   "cell_type": "code",
   "execution_count": 9,
   "metadata": {},
   "outputs": [],
   "source": [
    "np.set_printoptions(linewidth=500)"
   ]
  },
  {
   "cell_type": "code",
   "execution_count": 10,
   "metadata": {},
   "outputs": [],
   "source": [
    "p_seq_len = 50\n",
    "t_seq_len = 100"
   ]
  },
  {
   "cell_type": "code",
   "execution_count": 11,
   "metadata": {},
   "outputs": [],
   "source": [
    "user_train, user_valid, user_test, usernum, itemnum = data_partition(\"video_games\")"
   ]
  },
  {
   "cell_type": "code",
   "execution_count": 12,
   "metadata": {},
   "outputs": [],
   "source": [
    "ItemFeatures = get_ItemDataGames(itemnum)\n",
    "CXTDict = load_data(\"../../data/video_games_ctx.dat\")"
   ]
  },
  {
   "cell_type": "code",
   "execution_count": 13,
   "metadata": {},
   "outputs": [],
   "source": [
    "uid, seq, pos, neg, seqcxt, poscxt, negcxt = sample_function(user_train, usernum, itemnum, CXTDict, 6, p_seq_len)"
   ]
  },
  {
   "cell_type": "code",
   "execution_count": 14,
   "metadata": {},
   "outputs": [],
   "source": [
    "attrs = load_attrs(\"video_games\")\n",
    "ctx = load_ctx(\"video_games\")\n",
    "user_ids, item_ids, profiles = load_profiles(\"video_games\")"
   ]
  },
  {
   "cell_type": "code",
   "execution_count": 15,
   "metadata": {},
   "outputs": [],
   "source": [
    "n_items = len(item_ids) + 1\n",
    "n_ctx = next(iter(ctx.values())).shape[0]\n",
    "n_attrs = attrs.shape[1]"
   ]
  },
  {
   "cell_type": "code",
   "execution_count": 16,
   "metadata": {},
   "outputs": [],
   "source": [
    "train_data = CARCADataset(\n",
    "    user_ids=user_ids,\n",
    "    item_ids=item_ids,\n",
    "    profiles=profiles,\n",
    "    attrs=attrs,\n",
    "    ctx=ctx,\n",
    "    profile_seq_len=p_seq_len,\n",
    "    target_seq_len=t_seq_len,\n",
    "    mode=\"train\"\n",
    ")\n",
    "val_data = CARCADataset(\n",
    "    user_ids=user_ids,\n",
    "    item_ids=item_ids,\n",
    "    profiles=profiles,\n",
    "    attrs=attrs,\n",
    "    ctx=ctx,\n",
    "    profile_seq_len=p_seq_len,\n",
    "    target_seq_len=t_seq_len,\n",
    "    mode=\"val\"\n",
    ")\n",
    "test_data = CARCADataset(\n",
    "    user_ids=user_ids,\n",
    "    item_ids=item_ids,\n",
    "    profiles=profiles,\n",
    "    attrs=attrs,\n",
    "    ctx=ctx,\n",
    "    profile_seq_len=p_seq_len,\n",
    "    target_seq_len=t_seq_len,\n",
    "    mode=\"test\"\n",
    ")"
   ]
  },
  {
   "cell_type": "code",
   "execution_count": 17,
   "metadata": {},
   "outputs": [
    {
     "name": "stdout",
     "output_type": "stream",
     "text": [
      "10000\n"
     ]
    }
   ],
   "source": [
    "eps = 1e-4\n",
    "\n",
    "for i in range(10_000):\n",
    "    uid, seq, pos, neg, seqcxt, poscxt, negcxt = sample_function(user_train, usernum, itemnum, CXTDict, 6, 50)\n",
    "    idx = train_data.user_ids.index(int(uid[0]))\n",
    "\n",
    "    # try:\n",
    "    #     idx = train_data.user_ids.index(int(uid[0]))\n",
    "    # except:\n",
    "    #     continue\n",
    "\n",
    "    p_x, p_q, o_x, o_q, y_true = train_data[idx]\n",
    "    pos_x, neg_x = np.split(o_x, 2)\n",
    "    pos_q, neg_q = np.split(o_q, 2)\n",
    "\n",
    "    p_a, p_c = p_q[:, :-6], p_q[:, -6:]\n",
    "    pos_a, pos_c = pos_q[:, :-6], pos_q[:, -6:]\n",
    "    neg_a, neg_c = neg_q[:, :-6], neg_q[:, -6:]\n",
    "\n",
    "    checked += 1\n",
    "\n",
    "    assert np.all(p_x == seq), f\"Profile sequence, UID: {int(uid[0])}\"\n",
    "    assert np.all(pos_x == pos), f\"Target sequence, UID: {int(uid[0])}\"\n",
    "\n",
    "    assert np.all(seqcxt == p_c), f\"Profile ctx, UID: {int(uid[0])}\"\n",
    "    assert np.all(poscxt == pos_c), f\"Target positive ctx, UID: {int(uid[0])}\"\n",
    "    assert np.all(negcxt == neg_c), f\"Target negative ctx, UID: {int(uid[0])}\"\n",
    "\n",
    "    assert np.all(np.abs(ItemFeatures[seq] - p_a) < eps), f\"Profile attrs, UID: {int(uid[0])}\"\n",
    "    assert np.all(np.abs(ItemFeatures[pos] - pos_a) < eps), f\"Target attrs, UID: {int(uid[0])}\"\n",
    "\n",
    "print(checked)"
   ]
  },
  {
   "cell_type": "code",
   "execution_count": 21,
   "metadata": {},
   "outputs": [],
   "source": [
    "eps = 1e-4\n",
    "\n",
    "for i in range(10_000):\n",
    "    uid, seq, target, seqcxt, targetcxt = test_sample(user_train, user_valid, user_test, usernum, itemnum, p_seq_len, CXTDict, 6, negnum=t_seq_len)\n",
    "    idx = test_data.user_ids.index(int(uid[0]))\n",
    "\n",
    "    # try:\n",
    "    #     idx = test_data.user_ids.index(int(uid[0]))\n",
    "    # except:\n",
    "    #     not_checked.append(int(uid[0]))\n",
    "    #     continue\n",
    "\n",
    "    p_x, p_q, o_x, o_q, y_true = test_data[idx]\n",
    "    p_a, p_c = p_q[:, :-6], p_q[:, -6:]\n",
    "    t_a, t_c = o_q[0, :-6], o_q[:, -6:]\n",
    "\n",
    "    assert np.all(p_x == seq), f\"Profile sequence, UID: {int(uid[0])}\"\n",
    "    assert target[0] == o_x[0], f\"Target sequence, UID: {int(uid[0])}\"\n",
    "\n",
    "    assert np.all(seqcxt == p_c), f\"Profile ctx, UID: {int(uid[0])}\"\n",
    "    assert np.all(np.abs(targetcxt - t_c) < eps), f\"Target ctx, UID: {int(uid[0])}\"\n",
    "\n",
    "    assert np.all(np.abs(ItemFeatures[seq] - p_a) < eps), f\"Profile attrs, UID: {int(uid[0])}\"\n",
    "    assert np.all(np.abs(ItemFeatures[target[0]] - t_a) < eps), f\"Target attrs, UID: {int(uid[0])}\""
   ]
  },
  {
   "cell_type": "code",
   "execution_count": 22,
   "metadata": {},
   "outputs": [],
   "source": [
    "not_checked = []\n",
    "eps = 1e-4\n",
    "\n",
    "for i in range(10_000):\n",
    "    uid, seq, target, seqcxt, targetcxt = val_sample(user_train, user_valid, usernum, itemnum, p_seq_len, CXTDict, 6, negnum=t_seq_len)\n",
    "    idx = val_data.user_ids.index(int(uid[0]))\n",
    "\n",
    "    # try:\n",
    "    #     idx = val_data.user_ids.index(int(uid[0]))\n",
    "    # except:\n",
    "    #     not_checked.append(int(uid[0]))\n",
    "    #     continue\n",
    "\n",
    "    p_x, p_q, o_x, o_q, y_true = val_data[idx]\n",
    "    p_a, p_c = p_q[:, :-6], p_q[:, -6:]\n",
    "    t_a, t_c = o_q[0, :-6], o_q[:, -6:]\n",
    "\n",
    "    assert np.all(p_x == seq), f\"Profile sequence, UID: {int(uid[0])}\"\n",
    "    assert target[0] == o_x[0], f\"Target sequence, UID: {int(uid[0])}\"\n",
    "\n",
    "    assert np.all(seqcxt == p_c), f\"Profile ctx, UID: {int(uid[0])}\"\n",
    "    assert np.all(np.abs(targetcxt - t_c) < eps), f\"Target ctx, UID: {int(uid[0])}\"\n",
    "\n",
    "    assert np.all(np.abs(ItemFeatures[seq] - p_a) < eps), f\"Profile attrs, UID: {int(uid[0])}\"\n",
    "    assert np.all(np.abs(ItemFeatures[target[0]] - t_a) < eps), f\"Target attrs, UID: {int(uid[0])}\""
   ]
  }
 ],
 "metadata": {
  "kernelspec": {
   "display_name": "Python 3.9.13 ('papso-replication')",
   "language": "python",
   "name": "python3"
  },
  "language_info": {
   "codemirror_mode": {
    "name": "ipython",
    "version": 3
   },
   "file_extension": ".py",
   "mimetype": "text/x-python",
   "name": "python",
   "nbconvert_exporter": "python",
   "pygments_lexer": "ipython3",
   "version": "3.9.13"
  },
  "orig_nbformat": 4,
  "vscode": {
   "interpreter": {
    "hash": "e30f74691219d7aa0a376b512fc75f5f3e4a9e7bbff7ca6d7328ffbf45b45fd1"
   }
  }
 },
 "nbformat": 4,
 "nbformat_minor": 2
}
