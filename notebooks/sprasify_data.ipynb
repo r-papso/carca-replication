{
 "cells": [
  {
   "cell_type": "code",
   "execution_count": 1,
   "metadata": {},
   "outputs": [],
   "source": [
    "import sys\n",
    "import os\n",
    "import statistics\n",
    "import math\n",
    "import json\n",
    "import pandas as pd\n",
    "import numpy as np\n",
    "import random\n",
    "\n",
    "import matplotlib.pyplot as plt\n",
    "import matplotlib.ticker as mtick\n",
    "\n",
    "from collections import defaultdict"
   ]
  },
  {
   "cell_type": "code",
   "execution_count": 2,
   "metadata": {},
   "outputs": [],
   "source": [
    "sys.path.append(\"..\")"
   ]
  },
  {
   "cell_type": "code",
   "execution_count": 3,
   "metadata": {},
   "outputs": [],
   "source": [
    "from src.data import load_profiles, set_datapath"
   ]
  },
  {
   "cell_type": "code",
   "execution_count": 4,
   "metadata": {},
   "outputs": [],
   "source": [
    "DATASET = \"video_games\"\n",
    "MODE = \"all\""
   ]
  },
  {
   "cell_type": "code",
   "execution_count": 5,
   "metadata": {},
   "outputs": [],
   "source": [
    "line_dict = {}\n",
    "item_profiles = defaultdict(list)\n",
    "\n",
    "with open(\"../../data/video_games/profiles_all.txt\", \"r\") as f:\n",
    "    for i, line in enumerate(f):\n",
    "        values = line.strip().split(\" \")\n",
    "        user_id, item_id, ts = int(values[0]), int(values[1]), int(values[2])\n",
    "        line_dict[(user_id, item_id, ts)] = i\n",
    "        item_profiles[item_id].append((user_id, ts))"
   ]
  },
  {
   "cell_type": "code",
   "execution_count": 7,
   "metadata": {},
   "outputs": [],
   "source": [
    "# Random deletion\n",
    "del_ratio = 0.7\n",
    "item_subset = {}\n",
    "\n",
    "for item_id, interactions in item_profiles.items():\n",
    "    if len(interactions) > 1:\n",
    "        del_idxs = set(random.sample(range(len(interactions)), int(len(interactions) * del_ratio)))\n",
    "        item_subset[item_id] = [interaction for i, interaction in enumerate(interactions) if i not in del_idxs]"
   ]
  },
  {
   "cell_type": "code",
   "execution_count": 15,
   "metadata": {},
   "outputs": [],
   "source": [
    "# Deletion by timestamp\n",
    "del_ratio = 0.7\n",
    "item_subset = {}\n",
    "\n",
    "for item_id, interactions in item_profiles.items():\n",
    "    if len(interactions) > 1:\n",
    "        i_sorted = sorted(interactions, key=lambda i: i[1])\n",
    "        split = int(len(i_sorted) * del_ratio)\n",
    "        item_subset[item_id] = i_sorted[split:]"
   ]
  },
  {
   "cell_type": "code",
   "execution_count": 6,
   "metadata": {},
   "outputs": [],
   "source": [
    "# Random select and delete oldest\n",
    "del_ratio = 0.6\n",
    "inter_total = sum(len(p) for p in item_profiles.values())\n",
    "inter_to_del = int(inter_total * del_ratio)\n",
    "deleted = 0\n",
    "item_ids = list(item_profiles.keys())\n",
    "\n",
    "while deleted < inter_to_del:\n",
    "    item_id = random.randint(0, len(item_ids) - 1)\n",
    "    if len(item_profiles[item_ids[item_id]]) > 1:\n",
    "        item_profiles[item_ids[item_id]] = item_profiles[item_ids[item_id]][1:]\n",
    "        deleted += 1"
   ]
  },
  {
   "cell_type": "code",
   "execution_count": 7,
   "metadata": {},
   "outputs": [],
   "source": [
    "# Item statistics\n",
    "avg_i = statistics.mean(len(p) for p in item_profiles.values())\n",
    "std_i = statistics.stdev(len(p) for p in item_profiles.values())\n",
    "med_i = statistics.median(len(p) for p in item_profiles.values())\n",
    "mod_i = statistics.mode(len(p) for p in item_profiles.values())\n",
    "max_i = max(len(p) for p in item_profiles.values())\n",
    "min_i = min(len(p) for p in item_profiles.values())"
   ]
  },
  {
   "cell_type": "code",
   "execution_count": 53,
   "metadata": {},
   "outputs": [],
   "source": [
    "# Item statistics\n",
    "avg_s = statistics.mean(len(p) for p in item_subset.values())\n",
    "std_s = statistics.stdev(len(p) for p in item_subset.values())\n",
    "med_s = statistics.median(len(p) for p in item_subset.values())\n",
    "mod_s = statistics.mode(len(p) for p in item_subset.values())\n",
    "max_s = max(len(p) for p in item_subset.values())\n",
    "min_s = min(len(p) for p in item_subset.values())"
   ]
  },
  {
   "cell_type": "code",
   "execution_count": 8,
   "metadata": {},
   "outputs": [
    {
     "name": "stdout",
     "output_type": "stream",
     "text": [
      "13.839169494353897; 112.54690849263997; 1.0; 1; 6300; 1\n"
     ]
    }
   ],
   "source": [
    "print(\"; \".join(str(x) for x in [avg_i, std_i, med_i, mod_i, max_i, min_i]))"
   ]
  },
  {
   "cell_type": "code",
   "execution_count": 54,
   "metadata": {},
   "outputs": [
    {
     "name": "stdout",
     "output_type": "stream",
     "text": [
      "356.9397417503587; 508.9733575186983; 185; 7; 6215; 1\n"
     ]
    }
   ],
   "source": [
    "print(\"; \".join(str(x) for x in [avg_s, std_s, med_s, mod_s, max_s, min_s]))"
   ]
  },
  {
   "cell_type": "code",
   "execution_count": 22,
   "metadata": {},
   "outputs": [],
   "source": [
    "item_subset = item_profiles"
   ]
  },
  {
   "cell_type": "code",
   "execution_count": 23,
   "metadata": {},
   "outputs": [],
   "source": [
    "profiles = []\n",
    "\n",
    "for item_id, interactions in item_subset.items():\n",
    "    for user_id, ts in interactions:\n",
    "        profiles.append((user_id, item_id, ts))"
   ]
  },
  {
   "cell_type": "code",
   "execution_count": 24,
   "metadata": {},
   "outputs": [],
   "source": [
    "p_sorted = sorted(profiles, key=lambda p: p[2])"
   ]
  },
  {
   "cell_type": "code",
   "execution_count": 25,
   "metadata": {},
   "outputs": [],
   "source": [
    "with open(\"../../data/video_games/profiles_sub_time2.txt\", \"w\") as f:\n",
    "    for uid, iid, ts in p_sorted:\n",
    "        f.write(f\"{uid} {iid} {ts}\\n\")"
   ]
  },
  {
   "cell_type": "code",
   "execution_count": 26,
   "metadata": {},
   "outputs": [
    {
     "data": {
      "text/plain": [
       "1.0"
      ]
     },
     "execution_count": 26,
     "metadata": {},
     "output_type": "execute_result"
    }
   ],
   "source": [
    "len(p_sorted) / sum(len(p) for p in item_profiles.values())"
   ]
  },
  {
   "cell_type": "code",
   "execution_count": 27,
   "metadata": {},
   "outputs": [
    {
     "data": {
      "text/plain": [
       "746361"
      ]
     },
     "execution_count": 27,
     "metadata": {},
     "output_type": "execute_result"
    }
   ],
   "source": [
    "len(p_sorted)"
   ]
  }
 ],
 "metadata": {
  "kernelspec": {
   "display_name": "carca",
   "language": "python",
   "name": "python3"
  },
  "language_info": {
   "codemirror_mode": {
    "name": "ipython",
    "version": 3
   },
   "file_extension": ".py",
   "mimetype": "text/x-python",
   "name": "python",
   "nbconvert_exporter": "python",
   "pygments_lexer": "ipython3",
   "version": "3.9.16"
  },
  "orig_nbformat": 4
 },
 "nbformat": 4,
 "nbformat_minor": 2
}
