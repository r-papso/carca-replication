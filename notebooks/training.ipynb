{
 "cells": [
  {
   "cell_type": "code",
   "execution_count": 1,
   "metadata": {},
   "outputs": [],
   "source": [
    "import sys\n",
    "import torch\n",
    "from torch import nn"
   ]
  },
  {
   "cell_type": "code",
   "execution_count": 2,
   "metadata": {},
   "outputs": [],
   "source": [
    "sys.path.append(\"..\")"
   ]
  },
  {
   "cell_type": "code",
   "execution_count": 3,
   "metadata": {},
   "outputs": [],
   "source": [
    "from torch.utils.data import DataLoader"
   ]
  },
  {
   "cell_type": "code",
   "execution_count": 4,
   "metadata": {},
   "outputs": [],
   "source": [
    "from carca.data import CARCADataset, load_attrs, load_ctx, load_profiles\n",
    "from carca.model import CARCA, BinaryCrossEntropy"
   ]
  },
  {
   "cell_type": "code",
   "execution_count": 5,
   "metadata": {},
   "outputs": [],
   "source": [
    "attrs = load_attrs(\"video_games\")\n",
    "ctx = load_ctx(\"video_games\")\n",
    "user_ids, item_ids, profiles = load_profiles(\"video_games\")"
   ]
  },
  {
   "cell_type": "code",
   "execution_count": 6,
   "metadata": {},
   "outputs": [],
   "source": [
    "dataset = CARCADataset(user_ids, item_ids, profiles, attrs, ctx, 35, 100, \"train\")\n",
    "loader = DataLoader(dataset, batch_size=64, shuffle=True)"
   ]
  },
  {
   "cell_type": "code",
   "execution_count": 7,
   "metadata": {},
   "outputs": [],
   "source": [
    "p_x, o_x, p_q, o_q, y_true, mask = next(iter(loader))"
   ]
  },
  {
   "cell_type": "code",
   "execution_count": 8,
   "metadata": {},
   "outputs": [],
   "source": [
    "model = CARCA(\n",
    "    n_items=len(item_ids) + 1,\n",
    "    d=50,\n",
    "    g=250,\n",
    "    n_ctx=next(iter(ctx.values())).shape[0],\n",
    "    n_attrs=attrs.shape[1],\n",
    "    H=1,\n",
    "    p=0.5,\n",
    "    B=1\n",
    ")"
   ]
  },
  {
   "cell_type": "code",
   "execution_count": null,
   "metadata": {},
   "outputs": [],
   "source": [
    "# TODO: SET TRAINING LOOP, DO NOT FORGET TO CORRECTLY SPECIFY HYPERPARAMS - L2 REGULARIZATION, OPTIMIZER, BATCH SIZE, LEARNING RATE, ..."
   ]
  }
 ],
 "metadata": {
  "interpreter": {
   "hash": "59d02302364d92722781df083a4418cc03ba7c19172f04d4c159339a6c8436ad"
  },
  "kernelspec": {
   "display_name": "Python 3.9.13 ('replication_study')",
   "language": "python",
   "name": "python3"
  },
  "language_info": {
   "codemirror_mode": {
    "name": "ipython",
    "version": 3
   },
   "file_extension": ".py",
   "mimetype": "text/x-python",
   "name": "python",
   "nbconvert_exporter": "python",
   "pygments_lexer": "ipython3",
   "version": "3.9.13"
  },
  "orig_nbformat": 4
 },
 "nbformat": 4,
 "nbformat_minor": 2
}
