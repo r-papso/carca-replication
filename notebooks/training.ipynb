{
 "cells": [
  {
   "cell_type": "code",
   "execution_count": 1,
   "metadata": {},
   "outputs": [],
   "source": [
    "import os\n",
    "import sys\n",
    "import random\n",
    "import torch.nn as nn\n",
    "from torch.optim import Adam\n",
    "from torch.utils.data import DataLoader, Subset"
   ]
  },
  {
   "cell_type": "code",
   "execution_count": 2,
   "metadata": {},
   "outputs": [],
   "source": [
    "sys.path.append(\"..\")"
   ]
  },
  {
   "cell_type": "code",
   "execution_count": 3,
   "metadata": {},
   "outputs": [],
   "source": [
    "from src.data import CARCADataset, load_attrs, load_ctx, load_profiles, set_datapath\n",
    "from src.carca import AttrCtxEmbedding, AllEmbedding, AttrEmbedding, IdEmbedding\n",
    "from src.carca import IdentityEncoding, LearnableEncoding, PositionalEncoding\n",
    "from src.carca import CARCA, SelfAttentionBlock, CrossAttentionBlock, DotProduct\n",
    "from src.knn import KNN\n",
    "from src.train import train, evaluate"
   ]
  },
  {
   "cell_type": "code",
   "execution_count": 5,
   "metadata": {},
   "outputs": [],
   "source": [
    "set_datapath(\"../../data/embedding_experiment/video_games/\")"
   ]
  },
  {
   "cell_type": "code",
   "execution_count": 6,
   "metadata": {},
   "outputs": [],
   "source": [
    "# attrs = load_attrs(\"video_games_sbert_5core.dat\")\n",
    "# ctx = load_ctx(\"video_games_ctx_5core.dat\")\n",
    "# user_ids, item_ids, profiles = load_profiles(\"video_games_sorted_5core.txt\")"
   ]
  },
  {
   "cell_type": "code",
   "execution_count": 7,
   "metadata": {},
   "outputs": [],
   "source": [
    "attrs = load_attrs(\"video_games_sbert_5core.dat\")\n",
    "ctx = load_ctx(\"video_games_ctx_5core.dat\")\n",
    "user_ids, item_ids, profiles = load_profiles(\"video_games_sorted_5core.txt\")"
   ]
  },
  {
   "cell_type": "code",
   "execution_count": 8,
   "metadata": {},
   "outputs": [],
   "source": [
    "exp_name = \"id_resadd_causal_positions\"\n",
    "n_items = attrs.shape[0]\n",
    "n_ctx = next(iter(ctx.values())).shape[0]\n",
    "n_attrs = attrs.shape[1]"
   ]
  },
  {
   "cell_type": "code",
   "execution_count": 9,
   "metadata": {},
   "outputs": [],
   "source": [
    "# Hyper-parameters\n",
    "learning_rate =  0.001\n",
    "seq_len = 30\n",
    "n_blocks = 2\n",
    "n_heads = 1\n",
    "dropout_rate = 0.5\n",
    "l2_reg = 0.0\n",
    "d_dim = 50\n",
    "g_dim = 250\n",
    "residual_sa = True\n",
    "residual_ca = True\n",
    "epochs = 500\n",
    "batch_size = 256\n",
    "beta1 = 0.9\n",
    "beta2 = 0.98"
   ]
  },
  {
   "cell_type": "code",
   "execution_count": 10,
   "metadata": {},
   "outputs": [],
   "source": [
    "train_data = CARCADataset(\n",
    "    user_ids=user_ids,\n",
    "    item_ids=item_ids,\n",
    "    profiles=profiles,\n",
    "    attrs=attrs,\n",
    "    ctx=ctx,\n",
    "    profile_seq_len=seq_len,\n",
    "    target_seq_len=100,\n",
    "    mode=\"train\"\n",
    ")\n",
    "val_data = CARCADataset(\n",
    "    user_ids=user_ids,\n",
    "    item_ids=item_ids,\n",
    "    profiles=profiles,\n",
    "    attrs=attrs,\n",
    "    ctx=ctx,\n",
    "    profile_seq_len=seq_len,\n",
    "    target_seq_len=100,\n",
    "    mode=\"val\"\n",
    ")\n",
    "test_data = CARCADataset(\n",
    "    user_ids=user_ids,\n",
    "    item_ids=item_ids,\n",
    "    profiles=profiles,\n",
    "    attrs=attrs,\n",
    "    ctx=ctx,\n",
    "    profile_seq_len=seq_len,\n",
    "    target_seq_len=100,\n",
    "    mode=\"test\"\n",
    ")\n",
    "\n",
    "val_idx = random.sample(range(len(val_data)), 10_000) if len(val_data) > 10_000 else range(len(val_data))\n",
    "val_sub = Subset(val_data, val_idx)\n",
    "test_idx = random.sample(range(len(test_data)), 10_000) if len(test_data) > 10_000 else range(len(test_data))\n",
    "test_sub = Subset(test_data, test_idx)\n",
    "\n",
    "train_loader = DataLoader(train_data, batch_size=batch_size, shuffle=True, num_workers=0)\n",
    "val_loader = DataLoader(val_sub, batch_size=batch_size, shuffle=False, num_workers=0)\n",
    "test_loader = DataLoader(test_sub, batch_size=batch_size, shuffle=False, num_workers=0)"
   ]
  },
  {
   "cell_type": "code",
   "execution_count": 11,
   "metadata": {},
   "outputs": [],
   "source": [
    "# emb = AttrCtxEmbedding(d=d_dim, g=g_dim, n_ctx=n_ctx, n_attrs=n_attrs)\n",
    "pos = LearnableEncoding(d=d_dim, max_len=seq_len)\n",
    "# enc = LearnableEncoding(seq_len=seq_len, d=d_dim)\n",
    "emb = IdEmbedding(n_items=n_items, d=d_dim, pos=pos)\n",
    "enc = nn.ModuleList([SelfAttentionBlock(d_dim, n_heads, dropout_rate, residual_sa) for _ in range(n_blocks)])\n",
    "# dec = CrossAttentionBlock(d_dim, n_heads, dropout_rate, residual_ca)\n",
    "dec = DotProduct()\n",
    "\n",
    "model = CARCA(d=d_dim, p=dropout_rate, emb=emb, enc=enc, dec=dec)"
   ]
  },
  {
   "cell_type": "code",
   "execution_count": 12,
   "metadata": {},
   "outputs": [],
   "source": [
    "device = \"cuda\"\n",
    "model = model.to(device)"
   ]
  },
  {
   "cell_type": "code",
   "execution_count": 13,
   "metadata": {},
   "outputs": [],
   "source": [
    "optim = Adam(model.parameters(), lr=learning_rate, weight_decay=l2_reg, betas=(beta1, beta2))"
   ]
  },
  {
   "cell_type": "code",
   "execution_count": null,
   "metadata": {},
   "outputs": [],
   "source": [
    "model = train(\n",
    "    model=model,\n",
    "    train_loader=train_loader,\n",
    "    val_loader=val_loader,\n",
    "    test_loader=test_loader,\n",
    "    device=device,\n",
    "    optim=optim,\n",
    "    epochs=epochs,\n",
    "    early_stop=50,\n",
    "    datadir=f\"./{exp_name}\"\n",
    "    # scheduler=scheduler\n",
    ")"
   ]
  }
 ],
 "metadata": {
  "kernelspec": {
   "display_name": "LB",
   "language": "python",
   "name": "python3"
  },
  "language_info": {
   "codemirror_mode": {
    "name": "ipython",
    "version": 3
   },
   "file_extension": ".py",
   "mimetype": "text/x-python",
   "name": "python",
   "nbconvert_exporter": "python",
   "pygments_lexer": "ipython3",
   "version": "3.9.16"
  },
  "orig_nbformat": 4,
  "vscode": {
   "interpreter": {
    "hash": "c439b96c6fb0888fbb7bef077785ff873b0265e2f630b6096d8ea5b47f36cd00"
   }
  }
 },
 "nbformat": 4,
 "nbformat_minor": 2
}
