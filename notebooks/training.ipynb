{
 "cells": [
  {
   "cell_type": "code",
   "execution_count": 1,
   "metadata": {},
   "outputs": [],
   "source": [
    "import os\n",
    "import sys\n",
    "import torch\n",
    "from datetime import datetime\n",
    "from torch.optim import Adam\n",
    "from torch.utils.data import DataLoader"
   ]
  },
  {
   "cell_type": "code",
   "execution_count": 2,
   "metadata": {},
   "outputs": [],
   "source": [
    "sys.path.append(\"..\")"
   ]
  },
  {
   "cell_type": "code",
   "execution_count": 3,
   "metadata": {},
   "outputs": [],
   "source": [
    "from carca.data import CARCADataset, load_attrs, load_ctx, load_profiles\n",
    "from carca.model import CARCA, BinaryCrossEntropy"
   ]
  },
  {
   "cell_type": "code",
   "execution_count": 4,
   "metadata": {},
   "outputs": [],
   "source": [
    "def to(*tensors: torch.Tensor, device: str):\n",
    "    return tuple([t.to(device) for t in tensors])"
   ]
  },
  {
   "cell_type": "code",
   "execution_count": 5,
   "metadata": {},
   "outputs": [],
   "source": [
    "attrs = load_attrs(\"video_games\")\n",
    "ctx = load_ctx(\"video_games\")\n",
    "user_ids, item_ids, profiles = load_profiles(\"video_games\")"
   ]
  },
  {
   "cell_type": "code",
   "execution_count": 6,
   "metadata": {},
   "outputs": [],
   "source": [
    "n_items = len(item_ids) + 1\n",
    "n_ctx = next(iter(ctx.values())).shape[0]\n",
    "n_attrs = attrs.shape[1]"
   ]
  },
  {
   "cell_type": "code",
   "execution_count": 7,
   "metadata": {},
   "outputs": [],
   "source": [
    "learning_rate = 0.000006\n",
    "seq_len = 35\n",
    "n_blocks = 3\n",
    "n_heads = 3\n",
    "dropout_rate = 0.3\n",
    "l2_reg = 0.0001\n",
    "d_dim = 390\n",
    "g_dim = 1950\n",
    "residual_sa = True\n",
    "residual_ca = False\n",
    "epochs = 800\n",
    "batch_size = 128\n",
    "beta1 = 0.9\n",
    "beta2 = 0.98"
   ]
  },
  {
   "cell_type": "code",
   "execution_count": 8,
   "metadata": {},
   "outputs": [],
   "source": [
    "dataset = CARCADataset(\n",
    "    user_ids=user_ids,\n",
    "    item_ids=item_ids,\n",
    "    profiles=profiles,\n",
    "    attrs=attrs,\n",
    "    ctx=ctx,\n",
    "    profile_seq_len=seq_len,\n",
    "    target_seq_len=100,\n",
    "    mode=\"train\"\n",
    ")\n",
    "loader = DataLoader(dataset, batch_size=batch_size, shuffle=True, num_workers=0)"
   ]
  },
  {
   "cell_type": "code",
   "execution_count": 9,
   "metadata": {},
   "outputs": [],
   "source": [
    "model = CARCA(\n",
    "    n_items=n_items,\n",
    "    d=d_dim,\n",
    "    g=g_dim,\n",
    "    n_ctx=n_ctx,\n",
    "    n_attrs=n_attrs,\n",
    "    H=n_heads,\n",
    "    p=dropout_rate,\n",
    "    B=n_blocks,\n",
    "    res_sa=residual_sa,\n",
    "    res_ca=residual_ca\n",
    ")"
   ]
  },
  {
   "cell_type": "code",
   "execution_count": 10,
   "metadata": {},
   "outputs": [],
   "source": [
    "optim = Adam(model.parameters(), lr=learning_rate, weight_decay=l2_reg, betas=(beta1, beta2))\n",
    "loss_fn = BinaryCrossEntropy()"
   ]
  },
  {
   "cell_type": "code",
   "execution_count": 11,
   "metadata": {},
   "outputs": [
    {
     "name": "stdout",
     "output_type": "stream",
     "text": [
      "Using cpu device\n"
     ]
    }
   ],
   "source": [
    "device = \"cuda\" if torch.cuda.is_available() else \"cpu\"\n",
    "print(f\"Using {device} device\")\n",
    "model = model.to(device)"
   ]
  },
  {
   "cell_type": "code",
   "execution_count": null,
   "metadata": {},
   "outputs": [],
   "source": [
    "epoch = 0\n",
    "epochs = 2\n",
    "\n",
    "while epoch < epochs:\n",
    "    sum_loss = 0\n",
    "\n",
    "    for i, batch in enumerate(loader, start=1):\n",
    "        p_x, p_q, o_x, o_q, y_true, mask = to(*batch, device=device)\n",
    "\n",
    "        optim.zero_grad()\n",
    "        y_pred = model(p_x, p_q, o_x, o_q)\n",
    "        loss = loss_fn(y_pred, y_true, mask)\n",
    "        loss.backward()\n",
    "        optim.step()\n",
    "    \n",
    "        sum_loss += loss.item()\n",
    "\n",
    "        time = datetime.now().strftime(\"%H:%M:%S\")\n",
    "        print(f\"{time} - Batch {i:03d}: Average Loss = {(sum_loss / i):.4f}\")\n",
    "    \n",
    "    time = datetime.now().strftime(\"%H:%M:%S\")\n",
    "    print(f\"{time} - Epoch {epoch:03d}: Average Loss = {(sum_loss / len(loader)):.4f}\")\n",
    "    epoch += 1"
   ]
  },
  {
   "cell_type": "code",
   "execution_count": null,
   "metadata": {},
   "outputs": [],
   "source": [
    "# TODO: POSSIBLE ISSUES - CONV1D, DATA LOADING, UNORDERED SEQUENCES, TORCH OPERATIONS (MAYBE SOME PREVENT COMPUTING GRADIENTS)"
   ]
  }
 ],
 "metadata": {
  "interpreter": {
   "hash": "59d02302364d92722781df083a4418cc03ba7c19172f04d4c159339a6c8436ad"
  },
  "kernelspec": {
   "display_name": "Python 3.9.13 ('replication_study')",
   "language": "python",
   "name": "python3"
  },
  "language_info": {
   "codemirror_mode": {
    "name": "ipython",
    "version": 3
   },
   "file_extension": ".py",
   "mimetype": "text/x-python",
   "name": "python",
   "nbconvert_exporter": "python",
   "pygments_lexer": "ipython3",
   "version": "3.9.13"
  },
  "orig_nbformat": 4
 },
 "nbformat": 4,
 "nbformat_minor": 2
}
