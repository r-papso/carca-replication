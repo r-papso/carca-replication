{
 "cells": [
  {
   "cell_type": "code",
   "execution_count": 1,
   "metadata": {},
   "outputs": [],
   "source": [
    "import sys\n",
    "import random\n",
    "import torch.nn as nn\n",
    "from torch.optim import Adam\n",
    "from torch.utils.data import DataLoader, Subset"
   ]
  },
  {
   "cell_type": "code",
   "execution_count": 2,
   "metadata": {},
   "outputs": [],
   "source": [
    "sys.path.append(\"..\")"
   ]
  },
  {
   "cell_type": "code",
   "execution_count": 3,
   "metadata": {},
   "outputs": [],
   "source": [
    "# NEXT STEPS:\n",
    "# 1. Create Nearest Neighbour model - done\n",
    "# 2. Use pytorch attention\n",
    "# 3. Add causality constraint\n",
    "# 4. Experiment with + | * residual connections\n",
    "# 5. Add positional encoding"
   ]
  },
  {
   "cell_type": "code",
   "execution_count": 4,
   "metadata": {},
   "outputs": [],
   "source": [
    "from src.data import CARCADataset, load_attrs, load_ctx, load_profiles, set_datapath\n",
    "from src.data import CARCADataset, load_attrs_t, load_ctx_t\n",
    "from src.carca import AttrCtxEmbedding, AllEmbedding, AttrEmbedding, IdEmbedding\n",
    "from src.carca import IdentityEncoding, LearnableEncoding, PositionalEncoding\n",
    "from src.carca import CARCA, SelfAttentionBlock, CrossAttentionBlock, DotProduct\n",
    "from src.knn import KNN\n",
    "from src.train import train, evaluate"
   ]
  },
  {
   "cell_type": "code",
   "execution_count": 5,
   "metadata": {},
   "outputs": [],
   "source": [
    "set_datapath(\"../../data/embedding_experiment/video_games/\")"
   ]
  },
  {
   "cell_type": "code",
   "execution_count": 6,
   "metadata": {},
   "outputs": [],
   "source": [
    "# attrs = load_attrs(\"video_games_sbert_5core.dat\")\n",
    "# ctx = load_ctx(\"video_games_ctx_5core.dat\")\n",
    "# user_ids, item_ids, profiles = load_profiles(\"video_games_sorted_5core.txt\")"
   ]
  },
  {
   "cell_type": "code",
   "execution_count": 7,
   "metadata": {},
   "outputs": [],
   "source": [
    "attrs = load_attrs(\"video_games_sbert_5core.dat\")\n",
    "ctx = load_ctx(\"video_games_ctx_5core.dat\")\n",
    "user_ids, item_ids, profiles = load_profiles(\"video_games_sorted_5core.txt\")"
   ]
  },
  {
   "cell_type": "code",
   "execution_count": 8,
   "metadata": {},
   "outputs": [],
   "source": [
    "exp_name = \"id_resadd_causal_positions\"\n",
    "n_items = attrs.shape[0]\n",
    "n_ctx = next(iter(ctx.values())).shape[0]\n",
    "n_attrs = attrs.shape[1]"
   ]
  },
  {
   "cell_type": "code",
   "execution_count": 9,
   "metadata": {},
   "outputs": [],
   "source": [
    "# Hyper-parameters\n",
    "learning_rate =  0.001\n",
    "seq_len = 50\n",
    "n_blocks = 2\n",
    "n_heads = 1\n",
    "dropout_rate = 0.5\n",
    "l2_reg = 0.0\n",
    "d_dim = 50\n",
    "g_dim = 450\n",
    "residual_sa = True\n",
    "residual_ca = True\n",
    "epochs = 800\n",
    "batch_size = 256\n",
    "beta1 = 0.9\n",
    "beta2 = 0.98"
   ]
  },
  {
   "cell_type": "code",
   "execution_count": 10,
   "metadata": {},
   "outputs": [],
   "source": [
    "train_data = CARCADataset(\n",
    "    user_ids=user_ids,\n",
    "    item_ids=item_ids,\n",
    "    profiles=profiles,\n",
    "    attrs=attrs,\n",
    "    ctx=ctx,\n",
    "    profile_seq_len=seq_len,\n",
    "    target_seq_len=100,\n",
    "    mode=\"train\"\n",
    ")\n",
    "val_data = CARCADataset(\n",
    "    user_ids=user_ids,\n",
    "    item_ids=item_ids,\n",
    "    profiles=profiles,\n",
    "    attrs=attrs,\n",
    "    ctx=ctx,\n",
    "    profile_seq_len=seq_len,\n",
    "    target_seq_len=100,\n",
    "    mode=\"val\"\n",
    ")\n",
    "test_data = CARCADataset(\n",
    "    user_ids=user_ids,\n",
    "    item_ids=item_ids,\n",
    "    profiles=profiles,\n",
    "    attrs=attrs,\n",
    "    ctx=ctx,\n",
    "    profile_seq_len=seq_len,\n",
    "    target_seq_len=100,\n",
    "    mode=\"test\"\n",
    ")\n",
    "\n",
    "val_idx = random.sample(range(len(val_data)), 10_000) if len(val_data) > 10_000 else range(len(val_data))\n",
    "val_sub = Subset(val_data, val_idx)\n",
    "test_idx = random.sample(range(len(test_data)), 10_000) if len(test_data) > 10_000 else range(len(test_data))\n",
    "test_sub = Subset(test_data, test_idx)\n",
    "\n",
    "train_loader = DataLoader(train_data, batch_size=batch_size, shuffle=True, num_workers=0)\n",
    "val_loader = DataLoader(val_sub, batch_size=batch_size, shuffle=False, num_workers=0)\n",
    "test_loader = DataLoader(test_sub, batch_size=batch_size, shuffle=False, num_workers=0)"
   ]
  },
  {
   "cell_type": "code",
   "execution_count": 11,
   "metadata": {},
   "outputs": [],
   "source": [
    "# emb = AttrCtxEmbedding(d=d_dim, g=g_dim, n_ctx=n_ctx, n_attrs=n_attrs)\n",
    "pos = LearnableEncoding(d=d_dim, max_len=seq_len)\n",
    "# enc = LearnableEncoding(seq_len=seq_len, d=d_dim)\n",
    "emb = IdEmbedding(n_items=n_items, d=d_dim, pos=pos)\n",
    "enc = nn.ModuleList([SelfAttentionBlock(d_dim, n_heads, dropout_rate, residual_sa) for _ in range(n_blocks)])\n",
    "# dec = CrossAttentionBlock(d_dim, n_heads, dropout_rate, residual_ca)\n",
    "dec = DotProduct()\n",
    "\n",
    "model = CARCA(d=d_dim, p=dropout_rate, emb=emb, enc=enc, dec=dec)"
   ]
  },
  {
   "cell_type": "code",
   "execution_count": 12,
   "metadata": {},
   "outputs": [],
   "source": [
    "device = \"cuda\"\n",
    "model = model.to(device)"
   ]
  },
  {
   "cell_type": "code",
   "execution_count": 13,
   "metadata": {},
   "outputs": [],
   "source": [
    "optim = Adam(model.parameters(), lr=learning_rate, weight_decay=l2_reg, betas=(beta1, beta2))"
   ]
  },
  {
   "cell_type": "code",
   "execution_count": 14,
   "metadata": {},
   "outputs": [
    {
     "ename": "KeyboardInterrupt",
     "evalue": "",
     "output_type": "error",
     "traceback": [
      "\u001b[1;31m---------------------------------------------------------------------------\u001b[0m",
      "\u001b[1;31mKeyboardInterrupt\u001b[0m                         Traceback (most recent call last)",
      "Cell \u001b[1;32mIn[14], line 1\u001b[0m\n\u001b[1;32m----> 1\u001b[0m model \u001b[39m=\u001b[39m train(\n\u001b[0;32m      2\u001b[0m     model\u001b[39m=\u001b[39;49mmodel,\n\u001b[0;32m      3\u001b[0m     train_loader\u001b[39m=\u001b[39;49mtrain_loader,\n\u001b[0;32m      4\u001b[0m     val_loader\u001b[39m=\u001b[39;49mval_loader,\n\u001b[0;32m      5\u001b[0m     test_loader\u001b[39m=\u001b[39;49mtest_loader,\n\u001b[0;32m      6\u001b[0m     device\u001b[39m=\u001b[39;49mdevice,\n\u001b[0;32m      7\u001b[0m     optim\u001b[39m=\u001b[39;49moptim,\n\u001b[0;32m      8\u001b[0m     epochs\u001b[39m=\u001b[39;49mepochs,\n\u001b[0;32m      9\u001b[0m     early_stop\u001b[39m=\u001b[39;49m\u001b[39m50\u001b[39;49m,\n\u001b[0;32m     10\u001b[0m     datadir\u001b[39m=\u001b[39;49m\u001b[39mf\u001b[39;49m\u001b[39m\"\u001b[39;49m\u001b[39m./\u001b[39;49m\u001b[39m{\u001b[39;49;00mexp_name\u001b[39m}\u001b[39;49;00m\u001b[39m\"\u001b[39;49m\n\u001b[0;32m     11\u001b[0m     \u001b[39m# scheduler=scheduler\u001b[39;49;00m\n\u001b[0;32m     12\u001b[0m )\n",
      "File \u001b[1;32mc:\\Data\\Kinit\\replication_study\\carca-replication\\notebooks\\..\\src\\train.py:83\u001b[0m, in \u001b[0;36mtrain\u001b[1;34m(model, train_loader, val_loader, test_loader, device, optim, epochs, top_k, verbose, early_stop, datadir, scheduler)\u001b[0m\n\u001b[0;32m     80\u001b[0m \u001b[39mfor\u001b[39;00m epoch \u001b[39min\u001b[39;00m \u001b[39mrange\u001b[39m(\u001b[39m1\u001b[39m, epochs \u001b[39m+\u001b[39m \u001b[39m1\u001b[39m):\n\u001b[0;32m     81\u001b[0m     sum_loss \u001b[39m=\u001b[39m \u001b[39m0\u001b[39m\n\u001b[1;32m---> 83\u001b[0m     \u001b[39mfor\u001b[39;00m i, batch \u001b[39min\u001b[39;00m \u001b[39menumerate\u001b[39m(train_loader, start\u001b[39m=\u001b[39m\u001b[39m1\u001b[39m):\n\u001b[0;32m     84\u001b[0m         p_x, p_a, p_c, o_x, o_a, o_c, y_true \u001b[39m=\u001b[39m to(\u001b[39m*\u001b[39mbatch, device\u001b[39m=\u001b[39mdevice)\n\u001b[0;32m     86\u001b[0m         pos_x, neg_x \u001b[39m=\u001b[39m torch\u001b[39m.\u001b[39msplit(o_x, o_x\u001b[39m.\u001b[39mshape[\u001b[39m1\u001b[39m] \u001b[39m/\u001b[39m\u001b[39m/\u001b[39m \u001b[39m2\u001b[39m, dim\u001b[39m=\u001b[39m\u001b[39m1\u001b[39m)\n",
      "File \u001b[1;32mc:\\Users\\42190\\.conda\\envs\\carca\\lib\\site-packages\\torch\\utils\\data\\dataloader.py:634\u001b[0m, in \u001b[0;36m_BaseDataLoaderIter.__next__\u001b[1;34m(self)\u001b[0m\n\u001b[0;32m    631\u001b[0m \u001b[39mif\u001b[39;00m \u001b[39mself\u001b[39m\u001b[39m.\u001b[39m_sampler_iter \u001b[39mis\u001b[39;00m \u001b[39mNone\u001b[39;00m:\n\u001b[0;32m    632\u001b[0m     \u001b[39m# TODO(https://github.com/pytorch/pytorch/issues/76750)\u001b[39;00m\n\u001b[0;32m    633\u001b[0m     \u001b[39mself\u001b[39m\u001b[39m.\u001b[39m_reset()  \u001b[39m# type: ignore[call-arg]\u001b[39;00m\n\u001b[1;32m--> 634\u001b[0m data \u001b[39m=\u001b[39m \u001b[39mself\u001b[39;49m\u001b[39m.\u001b[39;49m_next_data()\n\u001b[0;32m    635\u001b[0m \u001b[39mself\u001b[39m\u001b[39m.\u001b[39m_num_yielded \u001b[39m+\u001b[39m\u001b[39m=\u001b[39m \u001b[39m1\u001b[39m\n\u001b[0;32m    636\u001b[0m \u001b[39mif\u001b[39;00m \u001b[39mself\u001b[39m\u001b[39m.\u001b[39m_dataset_kind \u001b[39m==\u001b[39m _DatasetKind\u001b[39m.\u001b[39mIterable \u001b[39mand\u001b[39;00m \\\n\u001b[0;32m    637\u001b[0m         \u001b[39mself\u001b[39m\u001b[39m.\u001b[39m_IterableDataset_len_called \u001b[39mis\u001b[39;00m \u001b[39mnot\u001b[39;00m \u001b[39mNone\u001b[39;00m \u001b[39mand\u001b[39;00m \\\n\u001b[0;32m    638\u001b[0m         \u001b[39mself\u001b[39m\u001b[39m.\u001b[39m_num_yielded \u001b[39m>\u001b[39m \u001b[39mself\u001b[39m\u001b[39m.\u001b[39m_IterableDataset_len_called:\n",
      "File \u001b[1;32mc:\\Users\\42190\\.conda\\envs\\carca\\lib\\site-packages\\torch\\utils\\data\\dataloader.py:678\u001b[0m, in \u001b[0;36m_SingleProcessDataLoaderIter._next_data\u001b[1;34m(self)\u001b[0m\n\u001b[0;32m    676\u001b[0m \u001b[39mdef\u001b[39;00m \u001b[39m_next_data\u001b[39m(\u001b[39mself\u001b[39m):\n\u001b[0;32m    677\u001b[0m     index \u001b[39m=\u001b[39m \u001b[39mself\u001b[39m\u001b[39m.\u001b[39m_next_index()  \u001b[39m# may raise StopIteration\u001b[39;00m\n\u001b[1;32m--> 678\u001b[0m     data \u001b[39m=\u001b[39m \u001b[39mself\u001b[39;49m\u001b[39m.\u001b[39;49m_dataset_fetcher\u001b[39m.\u001b[39;49mfetch(index)  \u001b[39m# may raise StopIteration\u001b[39;00m\n\u001b[0;32m    679\u001b[0m     \u001b[39mif\u001b[39;00m \u001b[39mself\u001b[39m\u001b[39m.\u001b[39m_pin_memory:\n\u001b[0;32m    680\u001b[0m         data \u001b[39m=\u001b[39m _utils\u001b[39m.\u001b[39mpin_memory\u001b[39m.\u001b[39mpin_memory(data, \u001b[39mself\u001b[39m\u001b[39m.\u001b[39m_pin_memory_device)\n",
      "File \u001b[1;32mc:\\Users\\42190\\.conda\\envs\\carca\\lib\\site-packages\\torch\\utils\\data\\_utils\\fetch.py:51\u001b[0m, in \u001b[0;36m_MapDatasetFetcher.fetch\u001b[1;34m(self, possibly_batched_index)\u001b[0m\n\u001b[0;32m     49\u001b[0m         data \u001b[39m=\u001b[39m \u001b[39mself\u001b[39m\u001b[39m.\u001b[39mdataset\u001b[39m.\u001b[39m__getitems__(possibly_batched_index)\n\u001b[0;32m     50\u001b[0m     \u001b[39melse\u001b[39;00m:\n\u001b[1;32m---> 51\u001b[0m         data \u001b[39m=\u001b[39m [\u001b[39mself\u001b[39m\u001b[39m.\u001b[39mdataset[idx] \u001b[39mfor\u001b[39;00m idx \u001b[39min\u001b[39;00m possibly_batched_index]\n\u001b[0;32m     52\u001b[0m \u001b[39melse\u001b[39;00m:\n\u001b[0;32m     53\u001b[0m     data \u001b[39m=\u001b[39m \u001b[39mself\u001b[39m\u001b[39m.\u001b[39mdataset[possibly_batched_index]\n",
      "File \u001b[1;32mc:\\Users\\42190\\.conda\\envs\\carca\\lib\\site-packages\\torch\\utils\\data\\_utils\\fetch.py:51\u001b[0m, in \u001b[0;36m<listcomp>\u001b[1;34m(.0)\u001b[0m\n\u001b[0;32m     49\u001b[0m         data \u001b[39m=\u001b[39m \u001b[39mself\u001b[39m\u001b[39m.\u001b[39mdataset\u001b[39m.\u001b[39m__getitems__(possibly_batched_index)\n\u001b[0;32m     50\u001b[0m     \u001b[39melse\u001b[39;00m:\n\u001b[1;32m---> 51\u001b[0m         data \u001b[39m=\u001b[39m [\u001b[39mself\u001b[39;49m\u001b[39m.\u001b[39;49mdataset[idx] \u001b[39mfor\u001b[39;00m idx \u001b[39min\u001b[39;00m possibly_batched_index]\n\u001b[0;32m     52\u001b[0m \u001b[39melse\u001b[39;00m:\n\u001b[0;32m     53\u001b[0m     data \u001b[39m=\u001b[39m \u001b[39mself\u001b[39m\u001b[39m.\u001b[39mdataset[possibly_batched_index]\n",
      "File \u001b[1;32mc:\\Data\\Kinit\\replication_study\\carca-replication\\notebooks\\..\\src\\data.py:371\u001b[0m, in \u001b[0;36mCARCADataset.__getitem__\u001b[1;34m(self, idx)\u001b[0m\n\u001b[0;32m    368\u001b[0m user_id \u001b[39m=\u001b[39m \u001b[39mself\u001b[39m\u001b[39m.\u001b[39muser_ids[idx]\n\u001b[0;32m    369\u001b[0m profile \u001b[39m=\u001b[39m \u001b[39mself\u001b[39m\u001b[39m.\u001b[39mprofiles[user_id]\n\u001b[1;32m--> 371\u001b[0m \u001b[39mreturn\u001b[39;00m get_sequences(\n\u001b[0;32m    372\u001b[0m     user_id, profile, \u001b[39mself\u001b[39;49m\u001b[39m.\u001b[39;49mprofile_seq_len, \u001b[39mself\u001b[39;49m\u001b[39m.\u001b[39;49mtarget_seq_len, \u001b[39mself\u001b[39;49m\u001b[39m.\u001b[39;49mattrs, \u001b[39mself\u001b[39;49m\u001b[39m.\u001b[39;49mctx, \u001b[39mself\u001b[39;49m\u001b[39m.\u001b[39;49mmode\n\u001b[0;32m    373\u001b[0m )\n",
      "File \u001b[1;32mc:\\Data\\Kinit\\replication_study\\carca-replication\\notebooks\\..\\src\\data.py:336\u001b[0m, in \u001b[0;36mget_sequences\u001b[1;34m(user_id, profile, profile_seq_len, target_seq_len, attrs, ctx, mode)\u001b[0m\n\u001b[0;32m    326\u001b[0m \u001b[39mdef\u001b[39;00m \u001b[39mget_sequences\u001b[39m(\n\u001b[0;32m    327\u001b[0m     user_id: \u001b[39mint\u001b[39m,\n\u001b[0;32m    328\u001b[0m     profile: List[\u001b[39mint\u001b[39m],\n\u001b[1;32m   (...)\u001b[0m\n\u001b[0;32m    333\u001b[0m     mode: \u001b[39mstr\u001b[39m,\n\u001b[0;32m    334\u001b[0m ) \u001b[39m-\u001b[39m\u001b[39m>\u001b[39m Tuple[np\u001b[39m.\u001b[39mndarray, \u001b[39m.\u001b[39m\u001b[39m.\u001b[39m\u001b[39m.\u001b[39m]:\n\u001b[0;32m    335\u001b[0m     \u001b[39mif\u001b[39;00m mode \u001b[39m==\u001b[39m \u001b[39m\"\u001b[39m\u001b[39mtrain\u001b[39m\u001b[39m\"\u001b[39m:\n\u001b[1;32m--> 336\u001b[0m         \u001b[39mreturn\u001b[39;00m get_train_sequences(user_id, profile, profile_seq_len, attrs, ctx)\n\u001b[0;32m    337\u001b[0m     \u001b[39melse\u001b[39;00m:\n\u001b[0;32m    338\u001b[0m         \u001b[39mreturn\u001b[39;00m get_test_sequences(user_id, profile, profile_seq_len, target_seq_len, attrs, ctx, mode)\n",
      "File \u001b[1;32mc:\\Data\\Kinit\\replication_study\\carca-replication\\notebooks\\..\\src\\data.py:135\u001b[0m, in \u001b[0;36mget_train_sequences\u001b[1;34m(user_id, profile, seq_len, attrs, ctx)\u001b[0m\n\u001b[0;32m    132\u001b[0m p_x \u001b[39m=\u001b[39m np\u001b[39m.\u001b[39mzeros(seq_len, dtype\u001b[39m=\u001b[39mnp\u001b[39m.\u001b[39mint32)\n\u001b[0;32m    133\u001b[0m o_x \u001b[39m=\u001b[39m np\u001b[39m.\u001b[39mzeros(seq_len \u001b[39m*\u001b[39m \u001b[39m2\u001b[39m, dtype\u001b[39m=\u001b[39mnp\u001b[39m.\u001b[39mint32)\n\u001b[1;32m--> 135\u001b[0m p_a \u001b[39m=\u001b[39m np\u001b[39m.\u001b[39;49mzeros((seq_len, a_len), dtype\u001b[39m=\u001b[39;49mnp\u001b[39m.\u001b[39;49mfloat32)\n\u001b[0;32m    136\u001b[0m o_a \u001b[39m=\u001b[39m np\u001b[39m.\u001b[39mzeros((seq_len \u001b[39m*\u001b[39m \u001b[39m2\u001b[39m, a_len), dtype\u001b[39m=\u001b[39mnp\u001b[39m.\u001b[39mfloat32)\n\u001b[0;32m    138\u001b[0m p_c \u001b[39m=\u001b[39m np\u001b[39m.\u001b[39mzeros((seq_len, c_len), dtype\u001b[39m=\u001b[39mnp\u001b[39m.\u001b[39mfloat32)\n",
      "\u001b[1;31mKeyboardInterrupt\u001b[0m: "
     ]
    }
   ],
   "source": [
    "model = train(\n",
    "    model=model,\n",
    "    train_loader=train_loader,\n",
    "    val_loader=val_loader,\n",
    "    test_loader=test_loader,\n",
    "    device=device,\n",
    "    optim=optim,\n",
    "    epochs=epochs,\n",
    "    early_stop=50,\n",
    "    datadir=f\"./{exp_name}\"\n",
    "    # scheduler=scheduler\n",
    ")"
   ]
  },
  {
   "cell_type": "code",
   "execution_count": 10,
   "metadata": {},
   "outputs": [],
   "source": [
    "model = KNN()"
   ]
  },
  {
   "cell_type": "code",
   "execution_count": 15,
   "metadata": {},
   "outputs": [
    {
     "data": {
      "text/plain": [
       "(0.3941, 0.24710776491165162, nan)"
      ]
     },
     "execution_count": 15,
     "metadata": {},
     "output_type": "execute_result"
    }
   ],
   "source": [
    "evaluate(model, test_loader, \"cuda\", 10)"
   ]
  }
 ],
 "metadata": {
  "kernelspec": {
   "display_name": "LB",
   "language": "python",
   "name": "python3"
  },
  "language_info": {
   "codemirror_mode": {
    "name": "ipython",
    "version": 3
   },
   "file_extension": ".py",
   "mimetype": "text/x-python",
   "name": "python",
   "nbconvert_exporter": "python",
   "pygments_lexer": "ipython3",
   "version": "3.9.16"
  },
  "orig_nbformat": 4,
  "vscode": {
   "interpreter": {
    "hash": "c439b96c6fb0888fbb7bef077785ff873b0265e2f630b6096d8ea5b47f36cd00"
   }
  }
 },
 "nbformat": 4,
 "nbformat_minor": 2
}
