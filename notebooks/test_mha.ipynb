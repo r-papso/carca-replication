{
 "cells": [
  {
   "cell_type": "code",
   "execution_count": 1,
   "metadata": {},
   "outputs": [],
   "source": [
    "import torch\n",
    "import torch.nn.functional as F\n",
    "from torch.utils.data import DataLoader"
   ]
  },
  {
   "cell_type": "code",
   "execution_count": null,
   "metadata": {},
   "outputs": [],
   "source": [
    "import tensorflow as tf"
   ]
  },
  {
   "cell_type": "code",
   "execution_count": 2,
   "metadata": {},
   "outputs": [],
   "source": [
    "import numpy as np"
   ]
  },
  {
   "cell_type": "code",
   "execution_count": 2,
   "metadata": {},
   "outputs": [],
   "source": [
    "import sys\n",
    "sys.path.append(\"..\")"
   ]
  },
  {
   "cell_type": "code",
   "execution_count": 3,
   "metadata": {},
   "outputs": [],
   "source": [
    "from carca.model import Embeddings\n",
    "from carca.data import CARCADataset, load_attrs, load_ctx, load_profiles\n",
    "from carca.utils import get_mask"
   ]
  },
  {
   "cell_type": "code",
   "execution_count": 5,
   "metadata": {},
   "outputs": [],
   "source": [
    "np.set_printoptions(linewidth=500)"
   ]
  },
  {
   "cell_type": "code",
   "execution_count": 6,
   "metadata": {},
   "outputs": [],
   "source": [
    "torch.set_printoptions(linewidth=500)"
   ]
  },
  {
   "cell_type": "code",
   "execution_count": 16,
   "metadata": {},
   "outputs": [],
   "source": [
    "def forward_torch(query, key, value, q_mask, k_mask, d, H):\n",
    "    query = torch.cat(torch.split(query, d // H, dim=2), dim=0)\n",
    "    key = torch.cat(torch.split(key, d // H, dim=2), dim=0)\n",
    "    value = torch.cat(torch.split(value, d // H, dim=2), dim=0)\n",
    "\n",
    "    mat1, mat2 = q_mask.unsqueeze(1).transpose(1, 2), k_mask.unsqueeze(1)\n",
    "    attn_mask = torch.bmm(mat1, mat2).bool()\n",
    "    attn_mask = torch.tile(attn_mask, (H, 1, 1))\n",
    "    add_mask = torch.where(attn_mask, 0.0, -(2**32) + 1.0)\n",
    "\n",
    "    out = torch.baddbmm(add_mask, query, key.transpose(1, 2))\n",
    "    out = out / (d / H) ** 0.5\n",
    "    out = F.softmax(out, dim=-1)\n",
    "\n",
    "    weight_mask = torch.tile(q_mask, (H, 1)).unsqueeze(2)\n",
    "    out = out * weight_mask\n",
    "\n",
    "    out = torch.bmm(out, value)\n",
    "    out = torch.cat(torch.split(out, out.shape[0] // H, dim=0), dim=2)\n",
    "\n",
    "    return out"
   ]
  },
  {
   "cell_type": "code",
   "execution_count": 3,
   "metadata": {},
   "outputs": [],
   "source": [
    "def forward_tf(query, key, value, H):\n",
    "    # Split and concat\n",
    "    Q_ = tf.concat(tf.split(query, H, axis=2), axis=0)  # (h*N, T_q, C/h)\n",
    "    K_ = tf.concat(tf.split(key, H, axis=2), axis=0)  # (h*N, T_k, C/h)\n",
    "    V_ = tf.concat(tf.split(value, H, axis=2), axis=0)  # (h*N, T_k, C/h)\n",
    "\n",
    "    # Multiplication\n",
    "    outputs = tf.matmul(Q_, tf.transpose(K_, [0, 2, 1]))  # (h*N, T_q, T_k)\n",
    "\n",
    "    # Scale\n",
    "    outputs = outputs / (K_.get_shape().as_list()[-1] ** 0.5)\n",
    "\n",
    "    # Key Masking\n",
    "    key_masks = tf.sign(tf.reduce_sum(tf.abs(key), axis=-1))  # (N, T_k)\n",
    "    key_masks = tf.tile(key_masks, [H, 1])  # (h*N, T_k)\n",
    "    key_masks = tf.tile(tf.expand_dims(key_masks, 1), [1, tf.shape(query)[1], 1])  # (h*N, T_q, T_k)\n",
    "\n",
    "    paddings = tf.ones_like(outputs) * (-(2**32) + 1)\n",
    "    outputs = tf.where(tf.equal(key_masks, 0), paddings, outputs)  # (h*N, T_q, T_k)\n",
    "\n",
    "    # Activation\n",
    "    outputs = tf.nn.softmax(outputs)  # (h*N, T_q, T_k)\n",
    "\n",
    "    # Query Masking\n",
    "    query_masks = tf.sign(tf.reduce_sum(tf.abs(query), axis=-1))  # (N, T_q)\n",
    "    query_masks = tf.tile(query_masks, [H, 1])  # (h*N, T_q)\n",
    "    query_masks = tf.tile(tf.expand_dims(query_masks, -1), [1, 1, tf.shape(key)[1]])  # (h*N, T_q, T_k)\n",
    "    outputs *= query_masks  # broadcasting. (N, T_q, C)\n",
    "\n",
    "    # Weighted sum\n",
    "    outputs = tf.matmul(outputs, V_)  # ( h*N, T_q, C/h)\n",
    "\n",
    "    # Restore shape\n",
    "    outputs = tf.concat(tf.split(outputs, H, axis=0), axis=2)  # (N, T_q, C)\n",
    "\n",
    "    return outputs"
   ]
  },
  {
   "cell_type": "code",
   "execution_count": 4,
   "metadata": {},
   "outputs": [],
   "source": [
    "attrs = load_attrs(\"video_games\")\n",
    "ctx = load_ctx(\"video_games\")\n",
    "user_ids, item_ids, profiles = load_profiles(\"video_games\")"
   ]
  },
  {
   "cell_type": "code",
   "execution_count": 5,
   "metadata": {},
   "outputs": [],
   "source": [
    "n_items = len(item_ids) + 1\n",
    "n_ctx = next(iter(ctx.values())).shape[0]\n",
    "n_attrs = attrs.shape[1]"
   ]
  },
  {
   "cell_type": "code",
   "execution_count": 6,
   "metadata": {},
   "outputs": [],
   "source": [
    "train_data = CARCADataset(\n",
    "    user_ids=user_ids,\n",
    "    item_ids=item_ids,\n",
    "    profiles=profiles,\n",
    "    attrs=attrs,\n",
    "    ctx=ctx,\n",
    "    profile_seq_len=50,\n",
    "    target_seq_len=100,\n",
    "    mode=\"train\"\n",
    ")"
   ]
  },
  {
   "cell_type": "code",
   "execution_count": 7,
   "metadata": {},
   "outputs": [],
   "source": [
    "train_loader = DataLoader(train_data, batch_size=128, shuffle=False)"
   ]
  },
  {
   "cell_type": "code",
   "execution_count": 8,
   "metadata": {},
   "outputs": [],
   "source": [
    "d = 90\n",
    "g = 450\n",
    "H = 3"
   ]
  },
  {
   "cell_type": "code",
   "execution_count": 10,
   "metadata": {},
   "outputs": [],
   "source": [
    "emb = Embeddings(n_items, d, g, n_ctx, n_attrs)"
   ]
  },
  {
   "cell_type": "code",
   "execution_count": 11,
   "metadata": {},
   "outputs": [],
   "source": [
    "p_x, p_q, o_x, o_q, y_true = next(iter(train_loader))\n",
    "p_mask = get_mask(p_x)\n",
    "p_e = emb.forward(p_x, p_q, p_mask)\n",
    "query = torch.cat(torch.split(p_e, d // H, dim=2), dim=0)\n",
    "key = torch.cat(torch.split(p_e, d // H, dim=2), dim=0)\n",
    "value = torch.cat(torch.split(p_e, d // H, dim=2), dim=0)"
   ]
  },
  {
   "cell_type": "code",
   "execution_count": 12,
   "metadata": {},
   "outputs": [
    {
     "data": {
      "text/plain": [
       "torch.Size([384, 50, 30])"
      ]
     },
     "execution_count": 12,
     "metadata": {},
     "output_type": "execute_result"
    }
   ],
   "source": [
    "key.shape"
   ]
  },
  {
   "cell_type": "code",
   "execution_count": 17,
   "metadata": {},
   "outputs": [],
   "source": [
    "for i, (p_x, p_q, o_x, o_q, y_true) in enumerate(train_loader):\n",
    "    p_mask = get_mask(p_x)\n",
    "    p_e = emb.forward(p_x, p_q, p_mask)\n",
    "    out = forward_torch(p_e, p_e, p_e, p_mask, p_mask, d, H)\n",
    "    \n",
    "    np.savez(f\"mha_io/io_{i:03d}.npz\", arr_in=p_e.detach().numpy(), arr_out=out.detach().numpy())"
   ]
  },
  {
   "cell_type": "code",
   "execution_count": 4,
   "metadata": {},
   "outputs": [],
   "source": [
    "import os"
   ]
  },
  {
   "cell_type": "code",
   "execution_count": 5,
   "metadata": {},
   "outputs": [],
   "source": [
    "io_files = [f for f in os.listdir(\"mha_io\") if os.path.isfile(os.path.join(\"mha_io\", f))]"
   ]
  },
  {
   "cell_type": "code",
   "execution_count": 11,
   "metadata": {},
   "outputs": [],
   "source": [
    "eps = 1e-5\n",
    "\n",
    "for f in io_files:\n",
    "    data = np.load(os.path.join(\"mha_io\", f))\n",
    "    arr_in = data[\"arr_in\"]\n",
    "    arr_out = data[\"arr_out\"]\n",
    "\n",
    "    t_in = tf.convert_to_tensor(arr_in)\n",
    "    t_out = forward_tf(t_in, t_in, t_in, H)\n",
    "    t_out = t_out.eval(session=tf.Session())\n",
    "\n",
    "    assert np.all(np.abs(arr_out - t_out) < eps), f"
   ]
  }
 ],
 "metadata": {
  "kernelspec": {
   "display_name": "Python 3.9.13 ('papso-replication')",
   "language": "python",
   "name": "python3"
  },
  "language_info": {
   "codemirror_mode": {
    "name": "ipython",
    "version": 3
   },
   "file_extension": ".py",
   "mimetype": "text/x-python",
   "name": "python",
   "nbconvert_exporter": "python",
   "pygments_lexer": "ipython3",
   "version": "3.9.13"
  },
  "orig_nbformat": 4,
  "vscode": {
   "interpreter": {
    "hash": "e30f74691219d7aa0a376b512fc75f5f3e4a9e7bbff7ca6d7328ffbf45b45fd1"
   }
  }
 },
 "nbformat": 4,
 "nbformat_minor": 2
}
