{
 "cells": [
  {
   "cell_type": "code",
   "execution_count": 9,
   "metadata": {},
   "outputs": [],
   "source": [
    "import sys\n",
    "import os\n",
    "import statistics\n",
    "import math\n",
    "import json\n",
    "import pandas as pd\n",
    "import numpy as np\n",
    "\n",
    "import matplotlib.pyplot as plt\n",
    "import matplotlib.ticker as mtick\n",
    "\n",
    "from collections import defaultdict"
   ]
  },
  {
   "cell_type": "code",
   "execution_count": 10,
   "metadata": {},
   "outputs": [],
   "source": [
    "sys.path.append(\"..\")"
   ]
  },
  {
   "cell_type": "code",
   "execution_count": 11,
   "metadata": {},
   "outputs": [],
   "source": [
    "from src.data import load_profiles, set_datapath"
   ]
  },
  {
   "cell_type": "code",
   "execution_count": 12,
   "metadata": {},
   "outputs": [],
   "source": [
    "def get_item_profiles(profile_file: str):\n",
    "    user_ids, item_ids = set(), set()\n",
    "    profiles = defaultdict(list)\n",
    "\n",
    "    with open(profile_file, \"r\") as df:\n",
    "        for line in df:\n",
    "            values = line.strip().split(\" \")\n",
    "            user_id, item_id = int(values[0]), int(values[1])\n",
    "            user_ids.add(user_id)\n",
    "            item_ids.add(item_id)\n",
    "            profiles[item_id].append(user_id)\n",
    "\n",
    "    return profiles"
   ]
  },
  {
   "cell_type": "code",
   "execution_count": 13,
   "metadata": {},
   "outputs": [],
   "source": [
    "DATASET = \"industrial_and_scientific\"\n",
    "MODE = \"all\""
   ]
  },
  {
   "cell_type": "code",
   "execution_count": 14,
   "metadata": {},
   "outputs": [],
   "source": [
    "os.makedirs(f\"../analysis/{DATASET}/{MODE}\", exist_ok=True)"
   ]
  },
  {
   "cell_type": "code",
   "execution_count": 15,
   "metadata": {},
   "outputs": [],
   "source": [
    "set_datapath(f\"../../data/{DATASET}\")"
   ]
  },
  {
   "cell_type": "code",
   "execution_count": 16,
   "metadata": {},
   "outputs": [],
   "source": [
    "user_ids, item_ids, user_profiles = load_profiles(f\"profiles_{MODE}.txt\")\n",
    "item_profiles = get_item_profiles(f\"../../data/{DATASET}/profiles_{MODE}.txt\")"
   ]
  },
  {
   "cell_type": "code",
   "execution_count": 17,
   "metadata": {},
   "outputs": [],
   "source": [
    "edges = set()\n",
    "\n",
    "for k, v in user_profiles.items():\n",
    "    for i in v:\n",
    "        edges.add((k, i))"
   ]
  },
  {
   "cell_type": "code",
   "execution_count": 18,
   "metadata": {},
   "outputs": [],
   "source": [
    "# Joint statistics\n",
    "sparsity = len(edges) / (len(user_ids) * len(item_ids)) * 100\n",
    "interactions = sum(len(p) for p in user_profiles.values())"
   ]
  },
  {
   "cell_type": "code",
   "execution_count": 19,
   "metadata": {},
   "outputs": [],
   "source": [
    "# User statistics\n",
    "multi_sess_u = sum(len(p) > 1 for p in user_profiles.values())\n",
    "avg_u = statistics.mean(len(p) for p in user_profiles.values())\n",
    "std_u = statistics.stdev(len(p) for p in user_profiles.values())\n",
    "med_u = statistics.median(len(p) for p in user_profiles.values())\n",
    "mod_u = statistics.mode(len(p) for p in user_profiles.values())\n",
    "max_u = max(len(p) for p in user_profiles.values())\n",
    "min_u = min(len(p) for p in user_profiles.values())"
   ]
  },
  {
   "cell_type": "code",
   "execution_count": 20,
   "metadata": {},
   "outputs": [],
   "source": [
    "# Item statistics\n",
    "multi_sess_i = sum(len(p) > 1 for p in item_profiles.values())\n",
    "avg_i = statistics.mean(len(p) for p in item_profiles.values())\n",
    "std_i = statistics.stdev(len(p) for p in item_profiles.values())\n",
    "med_i = statistics.median(len(p) for p in item_profiles.values())\n",
    "mod_i = statistics.mode(len(p) for p in item_profiles.values())\n",
    "max_i = max(len(p) for p in item_profiles.values())\n",
    "min_i = min(len(p) for p in item_profiles.values())"
   ]
  },
  {
   "cell_type": "code",
   "execution_count": 21,
   "metadata": {},
   "outputs": [],
   "source": [
    "v_labels = list(range(1, 51))\n",
    "v_counts = [sum(len(p) == i for p in user_profiles.values()) for i in range(1, 51)]"
   ]
  },
  {
   "cell_type": "code",
   "execution_count": null,
   "metadata": {},
   "outputs": [],
   "source": [
    "fig, ax = plt.subplots(1, 1, figsize=(12, 8))\n",
    "\n",
    "ax.bar(v_labels, v_counts)\n",
    "ax.set(xlabel=\"Interactions per profile\", ylabel=\"Number of profiles\", title=DATASET.replace(\"_\", \" \").capitalize())\n",
    "ax.set_xticks([i * 5 for i in range(11)])\n",
    "ax.grid(linewidth=0.3)"
   ]
  },
  {
   "cell_type": "code",
   "execution_count": 23,
   "metadata": {},
   "outputs": [],
   "source": [
    "fig.savefig(fname=f\"../analysis/{DATASET}/{MODE}/user_dist.png\")"
   ]
  },
  {
   "cell_type": "code",
   "execution_count": 24,
   "metadata": {},
   "outputs": [],
   "source": [
    "i_labels = list(range(1, 51))\n",
    "i_counts = [sum(len(p) == i for p in item_profiles.values()) for i in range(1, 51)]"
   ]
  },
  {
   "cell_type": "code",
   "execution_count": null,
   "metadata": {},
   "outputs": [],
   "source": [
    "fig, ax = plt.subplots(1, 1, figsize=(12, 8))\n",
    "\n",
    "ax.bar(i_labels, i_counts)\n",
    "ax.set(xlabel=\"Interactions per item\", ylabel=\"Number of items\", title=DATASET.replace(\"_\", \" \").capitalize())\n",
    "ax.set_xticks([i * 5 for i in range(11)])\n",
    "ax.grid(linewidth=0.3)"
   ]
  },
  {
   "cell_type": "code",
   "execution_count": 26,
   "metadata": {},
   "outputs": [],
   "source": [
    "fig.savefig(fname=f\"../analysis/{DATASET}/{MODE}/item_dist.png\")"
   ]
  },
  {
   "cell_type": "code",
   "execution_count": 27,
   "metadata": {},
   "outputs": [],
   "source": [
    "# Popularity distribution of items\n",
    "pop = sorted([len(p) for p in item_profiles.values()], reverse=True)"
   ]
  },
  {
   "cell_type": "code",
   "execution_count": null,
   "metadata": {},
   "outputs": [],
   "source": [
    "fig, ax = plt.subplots(1, 1, figsize=(12, 8))\n",
    "\n",
    "ax.plot(range(len(pop)), pop)\n",
    "ax.set(xlabel=\"Item number\", ylabel=\"Number of interactions\", title=DATASET.replace(\"_\", \" \").capitalize())\n",
    "# ax.set_xticks([i * 5 for i in range(11)])\n",
    "ax.grid(linewidth=0.3)"
   ]
  },
  {
   "cell_type": "code",
   "execution_count": 29,
   "metadata": {},
   "outputs": [],
   "source": [
    "fig.savefig(fname=f\"../analysis/{DATASET}/{MODE}/popularity.png\")"
   ]
  },
  {
   "cell_type": "code",
   "execution_count": 30,
   "metadata": {},
   "outputs": [],
   "source": [
    "kvtable = {\n",
    "    \"users\": len(user_ids),\n",
    "    \"items\": len(item_ids),\n",
    "    \"interactions\": interactions,\n",
    "    \"sparsity (%)\": round(sparsity, 6),\n",
    "    \"avg_user\": round(avg_u, 6),\n",
    "    \"std_user\": round(std_u, 6),\n",
    "    \"med_user\": med_u,\n",
    "    \"mod_user\": mod_u,\n",
    "    \"max_user\": max_u,\n",
    "    \"min_user\": min_u,\n",
    "    \"avg_item\": round(avg_i, 6),\n",
    "    \"std_item\": round(std_i, 6),\n",
    "    \"med_item\": med_i,\n",
    "    \"mod_item\": mod_i,\n",
    "    \"max_item\": max_i,\n",
    "    \"min_item\": min_i,\n",
    "}"
   ]
  },
  {
   "cell_type": "code",
   "execution_count": 31,
   "metadata": {},
   "outputs": [],
   "source": [
    "with open(f\"../analysis/{DATASET}/{MODE}/stats.json\", \"w\") as f:\n",
    "    f.write(json.dumps(kvtable))"
   ]
  },
  {
   "cell_type": "code",
   "execution_count": 147,
   "metadata": {},
   "outputs": [],
   "source": [
    "id, sbert, onehot = [], [], []\n",
    "\n",
    "with open(f\"../results/{DATASET}/{MODE}/x_identity_id_dot/results_per_seqlen.txt\", \"r\") as f:\n",
    "    for l in f:\n",
    "        vals = l.strip().split(\" \")\n",
    "        id.append((float(vals[0]), float(vals[1]), int(vals[2])))\n",
    "with open(f\"../results/{DATASET}/{MODE}/sbert_identity_all_dot/results_per_seqlen.txt\", \"r\") as f:\n",
    "    for l in f:\n",
    "        vals = l.strip().split(\" \")\n",
    "        sbert.append((float(vals[0]), float(vals[1]), int(vals[2])))\n",
    "with open(f\"../results/{DATASET}/{MODE}/onehot_identity_all_dot/results_per_seqlen.txt\", \"r\") as f:\n",
    "    for l in f:\n",
    "        vals = l.strip().split(\" \")\n",
    "        onehot.append((float(vals[0]), float(vals[1]), int(vals[2])))"
   ]
  },
  {
   "cell_type": "code",
   "execution_count": 148,
   "metadata": {},
   "outputs": [],
   "source": [
    "merged = []\n",
    "\n",
    "for t1, t2, t3 in zip(id, sbert, onehot):\n",
    "    assert t1[2] == t2[2] == t3[2]\n",
    "    merged.append((t1[2], t1[0], t1[1], t2[0], t2[1], t3[0], t3[1]))"
   ]
  },
  {
   "cell_type": "code",
   "execution_count": 149,
   "metadata": {},
   "outputs": [],
   "source": [
    "df = pd.DataFrame(merged, columns=[\"seq_len\", \"id_HR\", \"id_NDCG\", \"sbert_HR\", \"sbert_NDCG\", \"onehot_HR\", \"onehot_NDCG\"])"
   ]
  },
  {
   "cell_type": "code",
   "execution_count": 150,
   "metadata": {},
   "outputs": [],
   "source": [
    "df[\"bin\"] = pd.cut(df[\"seq_len\"], [0, 5, 10, 15, 20, 25, 30])\n",
    "df_means = df.groupby(\"bin\").agg([\"mean\", \"count\", \"sum\"])\n",
    "df_means.columns = df_means.columns.map('_'.join)\n",
    "df_means = df_means.reset_index()"
   ]
  },
  {
   "cell_type": "code",
   "execution_count": null,
   "metadata": {},
   "outputs": [],
   "source": [
    "ax = df_means.plot.bar(x=\"bin\", y=[\"sbert_HR_mean\", \"onehot_HR_mean\", \"id_HR_mean\"], label=[\"SBERT\", \"onehot\", \"ID\"], rot=0, figsize=(10, 8))\n",
    "_ = ax.set_yticks([round(i * 0.05, 2) for i in range(16)])\n",
    "_ = ax.yaxis.grid(linewidth=0.3)\n",
    "_ = ax.set_ylabel(\"HR@10\")\n",
    "_ = ax.set_xlabel(\"Sequence length\")\n",
    "_ = ax.set_title(f'{DATASET.replace(\"_\", \" \").capitalize()}')"
   ]
  },
  {
   "cell_type": "code",
   "execution_count": 154,
   "metadata": {},
   "outputs": [],
   "source": [
    "ax.get_figure().savefig(f\"../analysis/{DATASET}/{MODE}/HR_mean.png\")"
   ]
  },
  {
   "cell_type": "code",
   "execution_count": null,
   "metadata": {},
   "outputs": [],
   "source": [
    "ax = df_means.plot.bar(x=\"bin\", y=[\"seq_len_count\", \"sbert_HR_sum\", \"onehot_HR_sum\", \"id_HR_sum\"], label=[\"counts\", \"SBERT\", \"onehot\", \"ID\"], rot=0, figsize=(10, 8))\n",
    "_ = ax.set_yticks([round(i * 2500, 0) for i in range(13)])\n",
    "_ = ax.yaxis.grid(linewidth=0.3)\n",
    "_ = ax.set_ylabel(\"Number of samples / Total HR\")\n",
    "_ = ax.set_xlabel(\"Sequence length\")\n",
    "_ = ax.set_title(f'{DATASET.replace(\"_\", \" \").capitalize()}')"
   ]
  },
  {
   "cell_type": "code",
   "execution_count": 159,
   "metadata": {},
   "outputs": [],
   "source": [
    "ax.get_figure().savefig(f\"../analysis/{DATASET}/{MODE}/HR_counts.png\")"
   ]
  },
  {
   "cell_type": "code",
   "execution_count": null,
   "metadata": {},
   "outputs": [],
   "source": [
    "ax = df_means.plot.bar(x=\"bin\", y=[\"sbert_NDCG_mean\", \"onehot_NDCG_mean\", \"id_NDCG_mean\"], label=[\"SBERT\", \"onehot\", \"ID\"], rot=0, figsize=(10, 8))\n",
    "_ = ax.set_yticks([round(i * 0.05, 2) for i in range(11)])\n",
    "_ = ax.yaxis.grid(linewidth=0.3)\n",
    "_ = ax.set_ylabel(\"NDCG@10\")\n",
    "_ = ax.set_xlabel(\"Sequence length\")\n",
    "_ = ax.set_title(f'{DATASET.replace(\"_\", \" \").capitalize()}')"
   ]
  },
  {
   "cell_type": "code",
   "execution_count": 163,
   "metadata": {},
   "outputs": [],
   "source": [
    "ax.get_figure().savefig(f\"../analysis/{DATASET}/{MODE}/NDCG_mean.png\")"
   ]
  },
  {
   "cell_type": "code",
   "execution_count": 32,
   "metadata": {},
   "outputs": [],
   "source": [
    "table = []\n",
    "\n",
    "for root, dirnames, filenames in os.walk('../analysis'):\n",
    "    for fname in [f for f in filenames if f == \"stats.json\"]:\n",
    "        with open(os.path.join(root, fname), \"r\") as src:\n",
    "            stats = json.loads(src.read())\n",
    "\n",
    "        parts = root.split(\"\\\\\")\n",
    "        name, mode = parts[-2], parts[-1]\n",
    "        stats = {\"name\": name, \"mode\": mode} | stats\n",
    "\n",
    "        if len(table) == 0:\n",
    "            table.append(list(stats.keys()))\n",
    "        \n",
    "        table.append(list(stats.values()))"
   ]
  },
  {
   "cell_type": "code",
   "execution_count": 33,
   "metadata": {},
   "outputs": [],
   "source": [
    "result_table = []\n",
    "result_table.append(table[0].copy() + [\"onehot_HR\", \"onehot_NDCG\", \"sbert_HR\", \"sbert_NDCG\", \"id_HR\", \"id_NDCG\"])\n",
    "dirs_to_look = [\"onehot_identity_all_dot\", \"sbert_identity_all_dot\", \"x_identity_id_dot\"]\n",
    "\n",
    "for row in table[1:]:\n",
    "    name, mode = row[0], row[1]\n",
    "    basedir = f\"../results/{name}/{mode}\"\n",
    "    result_list = []\n",
    "\n",
    "    for dir in dirs_to_look:\n",
    "        csv = [f for f in os.listdir(f\"{basedir}/{dir}\") if f.endswith(\"csv\")]\n",
    "        assert len(csv) == 1, f\"{basedir}/{dir}\"\n",
    "\n",
    "        with open(f\"{basedir}/{dir}/{csv[0]}\", \"r\") as src:\n",
    "            results = src.readlines()\n",
    "        \n",
    "        test_results = results[-1].replace(\"\\n\", \"\").split(\";\")\n",
    "        assert test_results[2] == \"test\", f\"{basedir}/{dir}/{csv[0]}\"\n",
    "\n",
    "        hr, ndcg = float(test_results[-2]), float(test_results[-1])\n",
    "        result_list.extend([hr, ndcg])\n",
    "    \n",
    "    result_table.append(row.copy() + result_list)"
   ]
  },
  {
   "cell_type": "code",
   "execution_count": 34,
   "metadata": {},
   "outputs": [],
   "source": [
    "headers = result_table.pop(0)\n",
    "df = pd.DataFrame(result_table, columns=headers)"
   ]
  },
  {
   "cell_type": "code",
   "execution_count": 35,
   "metadata": {},
   "outputs": [],
   "source": [
    "df.insert(4, \"user_item_ratio\", df[\"users\"] / df[\"items\"])"
   ]
  },
  {
   "cell_type": "code",
   "execution_count": 36,
   "metadata": {},
   "outputs": [],
   "source": [
    "pd.set_option('display.max_columns', None)"
   ]
  },
  {
   "cell_type": "code",
   "execution_count": null,
   "metadata": {},
   "outputs": [],
   "source": [
    "df"
   ]
  },
  {
   "cell_type": "code",
   "execution_count": 38,
   "metadata": {},
   "outputs": [],
   "source": [
    "df.to_excel(\"../analysis/stats.xlsx\")"
   ]
  },
  {
   "cell_type": "code",
   "execution_count": null,
   "metadata": {},
   "outputs": [],
   "source": [
    "ax = (df[\"sbert_HR\"] - df[\"id_HR\"]).plot.bar(figsize=(10, 10))\n",
    "ax.set_yticks([round(i * 0.01, 3) for i in range(-1, 13)])\n",
    "ax.axhline(y=0.0, color=\"black\", linewidth=0.3)\n",
    "ax.yaxis.grid(linewidth=0.3)\n",
    "ax.set_xlabel(\"Option\")\n",
    "ax.set_ylabel(\"SBERT improvement over ID (HR)\")"
   ]
  },
  {
   "cell_type": "code",
   "execution_count": 40,
   "metadata": {},
   "outputs": [],
   "source": [
    "ax.get_figure().savefig(f\"../analysis/sbert_vs_id_HR.png\")"
   ]
  },
  {
   "cell_type": "code",
   "execution_count": null,
   "metadata": {},
   "outputs": [],
   "source": [
    "ax = (df[\"sbert_NDCG\"] - df[\"id_NDCG\"]).plot.bar(figsize=(10, 10))\n",
    "ax.set_yticks([round(i * 0.01, 3) for i in range(-1, 13)])\n",
    "ax.axhline(y=0.0, color=\"black\", linewidth=0.3)\n",
    "ax.yaxis.grid(linewidth=0.3)\n",
    "ax.set_xlabel(\"Option\")\n",
    "ax.set_ylabel(\"SBERT improvement over ID (NDCG)\")"
   ]
  },
  {
   "cell_type": "code",
   "execution_count": 42,
   "metadata": {},
   "outputs": [],
   "source": [
    "ax.get_figure().savefig(f\"../analysis/sbert_vs_id_NDCG.png\")"
   ]
  },
  {
   "cell_type": "code",
   "execution_count": null,
   "metadata": {},
   "outputs": [],
   "source": [
    "ax = (df[\"sbert_HR\"] - df[\"onehot_HR\"]).plot.bar(figsize=(10, 10))\n",
    "ax.set_yticks([round(i * 0.01, 3) for i in range(-1, 13)])\n",
    "ax.axhline(y=0.0, color=\"black\", linewidth=0.3)\n",
    "ax.yaxis.grid(linewidth=0.3)\n",
    "ax.set_xlabel(\"Option\")\n",
    "ax.set_ylabel(\"SBERT improvement over onehot (HR)\")"
   ]
  },
  {
   "cell_type": "code",
   "execution_count": 44,
   "metadata": {},
   "outputs": [],
   "source": [
    "ax.get_figure().savefig(f\"../analysis/sbert_vs_onehot_HR.png\")"
   ]
  },
  {
   "cell_type": "code",
   "execution_count": null,
   "metadata": {},
   "outputs": [],
   "source": [
    "ax = (df[\"sbert_NDCG\"] - df[\"onehot_NDCG\"]).plot.bar(figsize=(10, 10))\n",
    "ax.set_yticks([round(i * 0.01, 3) for i in range(-1, 13)])\n",
    "ax.axhline(y=0.0, color=\"black\", linewidth=0.3)\n",
    "ax.yaxis.grid(linewidth=0.3)\n",
    "ax.set_xlabel(\"Option\")\n",
    "ax.set_ylabel(\"SBERT improvement over onehot (NDCG)\")"
   ]
  },
  {
   "cell_type": "code",
   "execution_count": 46,
   "metadata": {},
   "outputs": [],
   "source": [
    "ax.get_figure().savefig(f\"../analysis/sbert_vs_onehot_NDCG.png\")"
   ]
  },
  {
   "cell_type": "code",
   "execution_count": null,
   "metadata": {},
   "outputs": [],
   "source": [
    "ax = df.reset_index().plot.bar(x=\"index\", y=[\"sbert_HR\", \"onehot_HR\", \"id_HR\"], figsize=(15, 10))\n",
    "ax.set_yticks([round(i * 0.05, 2) for i in range(18)])\n",
    "ax.axhline(y=0.0, color=\"black\", linewidth=0.3)\n",
    "ax.yaxis.grid(linewidth=0.3)\n",
    "ax.set_xlabel(\"Option\")\n",
    "ax.set_ylabel(\"HR\")"
   ]
  },
  {
   "cell_type": "code",
   "execution_count": 48,
   "metadata": {},
   "outputs": [],
   "source": [
    "ax.get_figure().savefig(f\"../analysis/all_HR.png\")"
   ]
  },
  {
   "cell_type": "code",
   "execution_count": null,
   "metadata": {},
   "outputs": [],
   "source": [
    "ax = df.reset_index().plot.bar(x=\"index\", y=[\"sbert_NDCG\", \"onehot_NDCG\", \"id_NDCG\"], figsize=(15, 10))\n",
    "ax.set_yticks([round(i * 0.05, 2) for i in range(14)])\n",
    "ax.axhline(y=0.0, color=\"black\", linewidth=0.3)\n",
    "ax.yaxis.grid(linewidth=0.3)\n",
    "ax.set_xlabel(\"Option\")\n",
    "ax.set_ylabel(\"NDCG\")"
   ]
  },
  {
   "cell_type": "code",
   "execution_count": 47,
   "metadata": {},
   "outputs": [],
   "source": [
    "ax.get_figure().savefig(f\"../analysis/all_NDCG.png\")"
   ]
  }
 ],
 "metadata": {
  "kernelspec": {
   "display_name": "LB",
   "language": "python",
   "name": "python3"
  },
  "language_info": {
   "codemirror_mode": {
    "name": "ipython",
    "version": 3
   },
   "file_extension": ".py",
   "mimetype": "text/x-python",
   "name": "python",
   "nbconvert_exporter": "python",
   "pygments_lexer": "ipython3",
   "version": "3.9.16"
  },
  "orig_nbformat": 4,
  "vscode": {
   "interpreter": {
    "hash": "c439b96c6fb0888fbb7bef077785ff873b0265e2f630b6096d8ea5b47f36cd00"
   }
  }
 },
 "nbformat": 4,
 "nbformat_minor": 2
}
