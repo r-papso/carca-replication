{
 "cells": [
  {
   "cell_type": "code",
   "execution_count": 160,
   "metadata": {},
   "outputs": [],
   "source": [
    "import numpy as np\n",
    "import pickle\n",
    "import random\n",
    "from typing import List, Dict, Tuple\n",
    "from collections import defaultdict\n",
    "from torch.utils.data import Dataset, DataLoader"
   ]
  },
  {
   "cell_type": "code",
   "execution_count": 3,
   "metadata": {},
   "outputs": [],
   "source": [
    "def load_ctx(dataset_name) -> Dict[Tuple[int, int], np.ndarray]:\n",
    "    with open(f\"../data/{dataset_name}_ctx.dat\", \"rb\") as rf:\n",
    "        ctx = pickle.load(rf)\n",
    "    \n",
    "    # Cast context values from list to numpy array\n",
    "    for k in ctx.keys():\n",
    "        ctx[k] = np.array(ctx[k])\n",
    "    \n",
    "    return ctx"
   ]
  },
  {
   "cell_type": "code",
   "execution_count": 4,
   "metadata": {},
   "outputs": [],
   "source": [
    "def load_attrs(dataset_name) -> np.ndarray:\n",
    "    with open(f\"../data/{dataset_name}_attrs.dat\", \"rb\") as rf:\n",
    "        attrs = pickle.load(rf)\n",
    "    \n",
    "    # Add zero row for <pad> item\n",
    "    attrs = np.concatenate((np.zeros((1, attrs.shape[1])), attrs), axis=0)\n",
    "    return attrs"
   ]
  },
  {
   "cell_type": "code",
   "execution_count": 15,
   "metadata": {},
   "outputs": [],
   "source": [
    "def load_profiles(dataset_name):\n",
    "    user_ids, item_ids = set(), set()\n",
    "    profiles = defaultdict(list)\n",
    "\n",
    "    with open(f\"../data/{dataset_name}.txt\", \"r\") as df:\n",
    "        for line in df:\n",
    "            user_id, item_id = list(map(int, line.strip().split(\" \")))\n",
    "            user_ids.add(user_id)\n",
    "            item_ids.add(item_id)\n",
    "            profiles[user_id].append(item_id)\n",
    "    \n",
    "    return list(user_ids), list(item_ids), profiles"
   ]
  },
  {
   "cell_type": "code",
   "execution_count": 6,
   "metadata": {},
   "outputs": [],
   "source": [
    "def one_out_idx(profile: List[int], mode: str) -> int:\n",
    "    if mode not in [\"train\", \"val\", \"test\"]:\n",
    "        raise ValueError(f\"Invalid mode: {mode}\")\n",
    "    \n",
    "    if mode == \"train\" and len(profile) > 1:\n",
    "        return max(1, len(profile) - 3)\n",
    "    \n",
    "    if mode == \"val\" and len(profile) > 2:\n",
    "        return max(2, len(profile) - 2)\n",
    "    \n",
    "    if mode == \"test\" and len(profile) > 3:\n",
    "        return len(profile) - 1\n",
    "    \n",
    "    return -1"
   ]
  },
  {
   "cell_type": "code",
   "execution_count": 7,
   "metadata": {},
   "outputs": [],
   "source": [
    "def pad_profile(profile: List[int], max_len: int, mode: str) -> List[int]:\n",
    "    if mode not in [\"train\", \"val\", \"test\"]:\n",
    "        raise ValueError(f\"Invalid mode: {mode}\")\n",
    "\n",
    "    start, end = 0, 0\n",
    "\n",
    "    if mode == \"train\" and len(profile) > 1:\n",
    "        n_excluded = 3\n",
    "        start = max(0, len(profile) - n_excluded - max_len)\n",
    "        end = max(1, len(profile) - n_excluded)\n",
    "\n",
    "    if mode == \"val\" and len(profile) > 2:\n",
    "        n_excluded = 1 if len(profile) == 3 else 2\n",
    "        start = max(0, len(profile) - n_excluded - max_len)\n",
    "        end = max(1, len(profile) - n_excluded)\n",
    "\n",
    "    if mode == \"test\" and len(profile) > 3:\n",
    "        n_excluded = 2\n",
    "        start = max(0, len(profile) - n_excluded - max_len)\n",
    "        end = max(1, len(profile) - n_excluded)\n",
    "\n",
    "    return list(range(start, end))"
   ]
  },
  {
   "cell_type": "code",
   "execution_count": 104,
   "metadata": {},
   "outputs": [],
   "source": [
    "def sample_negatives(profile: List[int], n_items: int, n: int) -> List[int]:\n",
    "    sample = []\n",
    "\n",
    "    while len(sample) < n:\n",
    "        item_id = random.randint(1, n_items - 1)\n",
    "\n",
    "        if item_id not in sample and item_id not in profile:\n",
    "            sample.append(item_id)\n",
    "\n",
    "    return sample"
   ]
  },
  {
   "cell_type": "code",
   "execution_count": 148,
   "metadata": {},
   "outputs": [],
   "source": [
    "def get_train_sequences(\n",
    "        user_id: int,\n",
    "        profile: List[int],\n",
    "        seq_len: int,\n",
    "        attrs: np.ndarray,\n",
    "        ctx: Dict[Tuple[int, int], np.ndarray]\n",
    "    ) -> Tuple[np.ndarray, ...]:\n",
    "    q_len = attrs.shape[1] + next(iter(ctx.values())).shape[0]\n",
    "\n",
    "    p_x = np.zeros(seq_len, dtype=np.int32)\n",
    "    o_x = np.zeros(seq_len * 2, dtype=np.int32)\n",
    "    p_q = np.zeros((seq_len, q_len))\n",
    "    o_q = np.zeros((seq_len * 2, q_len))\n",
    "\n",
    "    padded_idxs = pad_profile(profile, seq_len, \"train\")\n",
    "    neg_sample = sample_negatives(profile, attrs.shape[0], len(padded_idxs))\n",
    "\n",
    "    for i, pi in enumerate(padded_idxs):\n",
    "        shift = seq_len - len(padded_idxs)\n",
    "\n",
    "        p_x[shift + i] = profile[pi]\n",
    "        o_x[shift + i] = profile[pi + 1]\n",
    "        o_x[seq_len + shift + i] = neg_sample[i]\n",
    "\n",
    "        a = attrs[profile[pi]]\n",
    "        c = ctx[(user_id, profile[pi])]\n",
    "        p_q[shift + i] = np.concatenate((a, c))\n",
    "\n",
    "        a = attrs[profile[pi + 1]]\n",
    "        c = ctx[(user_id, profile[pi + 1])]\n",
    "        o_q[shift + i] = np.concatenate((a, c))\n",
    "\n",
    "        a = attrs[neg_sample[i]]\n",
    "        c = ctx[((user_id, profile[pi + 1]))]  # Assign same context to negative sample as to positive sample\n",
    "        o_q[seq_len + shift + i] = np.concatenate((a, c))\n",
    "    \n",
    "    y_true = np.zeros(seq_len * 2, dtype=np.int32)\n",
    "    y_true[np.where(p_x > 0)] = 1\n",
    "    mask = np.zeros(seq_len * 2, dtype=np.int32)\n",
    "    mask[np.where(o_x > 0)] = 1\n",
    "    \n",
    "    return p_x, o_x, p_q, o_q, y_true, mask"
   ]
  },
  {
   "cell_type": "code",
   "execution_count": 149,
   "metadata": {},
   "outputs": [],
   "source": [
    "def get_test_sequences(\n",
    "        user_id: int,\n",
    "        profile: List[int],\n",
    "        profile_seq_len: int,\n",
    "        target_seq_len: int,\n",
    "        attrs: np.ndarray,\n",
    "        ctx: Dict[Tuple[int, int], np.ndarray],\n",
    "        mode: str\n",
    "    ) -> Tuple[np.ndarray, ...]:\n",
    "    q_len = attrs.shape[1] + next(iter(ctx.values())).shape[0]\n",
    "\n",
    "    p_x = np.zeros(profile_seq_len, dtype=np.int32)\n",
    "    o_x = np.zeros(target_seq_len + 1, dtype=np.int32)\n",
    "    p_q = np.zeros((profile_seq_len, q_len))\n",
    "    o_q = np.zeros((target_seq_len + 1, q_len))\n",
    "\n",
    "    one_out = one_out_idx(profile, mode)\n",
    "    a = attrs[profile[one_out]]\n",
    "    c = ctx[(user_id, profile[one_out])]\n",
    "    o_x[0] = profile[one_out]\n",
    "    o_q[0] = np.concatenate((a, c))\n",
    "\n",
    "    padded_idxs = pad_profile(profile, profile_seq_len, mode)\n",
    "    neg_samples = sample_negatives(profile, attrs.shape[0], target_seq_len)\n",
    "\n",
    "    for i, pi in enumerate(padded_idxs):\n",
    "        shift = profile_seq_len - len(padded_idxs)\n",
    "\n",
    "        a = attrs[profile[pi]]\n",
    "        c = ctx[(user_id, profile[pi])]\n",
    "        p_x[shift + i] = profile[pi]\n",
    "        p_q[shift + i] = np.concatenate((a, c))\n",
    "    \n",
    "    for i, oi in enumerate(neg_samples, start=1):\n",
    "        a = attrs[oi]\n",
    "        c = ctx[(user_id, profile[one_out])]  # Assign same context to negatives as to one-out positive\n",
    "        o_x[i] = oi\n",
    "        o_q[i] = np.concatenate((a, c))\n",
    "    \n",
    "    y_true = np.zeros(target_seq_len + 1, dtype=np.int32)\n",
    "    y_true[0] = 1\n",
    "    mask = np.ones(target_seq_len + 1, dtype=np.int32)\n",
    "    \n",
    "    return p_x, o_x, p_q, o_q, y_true, mask"
   ]
  },
  {
   "cell_type": "code",
   "execution_count": 150,
   "metadata": {},
   "outputs": [],
   "source": [
    "def get_sequences(\n",
    "    user_id: int,\n",
    "    profile: List[int],\n",
    "    profile_seq_len: int,\n",
    "    target_seq_len: int,\n",
    "    attrs: np.ndarray,\n",
    "    ctx: Dict[Tuple[int, int], np.ndarray],\n",
    "    mode: str\n",
    ") -> Tuple[np.ndarray, ...]:\n",
    "    if mode == \"train\":\n",
    "        return get_train_sequences(user_id, profile, profile_seq_len, attrs, ctx)\n",
    "    else:\n",
    "        return get_test_sequences(user_id, profile, profile_seq_len, target_seq_len, attrs, ctx, mode)"
   ]
  },
  {
   "cell_type": "code",
   "execution_count": 151,
   "metadata": {},
   "outputs": [],
   "source": [
    "class CARCADataset(Dataset):\n",
    "    def __init__(\n",
    "        self,\n",
    "        user_ids: List[int],\n",
    "        item_ids: List[int],\n",
    "        profiles: Dict[int, List[int]],\n",
    "        attrs: np.ndarray,\n",
    "        ctx: Dict[Tuple[int, int], np.ndarray],\n",
    "        profile_seq_len: int,\n",
    "        target_seq_len: int,\n",
    "        mode: str\n",
    "    ):\n",
    "        super().__init__()\n",
    "\n",
    "        self.user_ids = self.valid_user_ids(profiles, mode)\n",
    "        self.item_ids = item_ids\n",
    "        self.profiles = profiles\n",
    "        self.attrs = attrs\n",
    "        self.ctx = ctx\n",
    "        self.profile_seq_len = profile_seq_len\n",
    "        self.target_seq_len = target_seq_len\n",
    "        self.mode = mode\n",
    "    \n",
    "    def __len__(self) -> int:\n",
    "        return len(self.user_ids)\n",
    "    \n",
    "    def __getitem__(self, idx) -> Tuple[np.ndarray, ...]:\n",
    "        user_id = self.user_ids[idx]\n",
    "        profile = self.profiles[user_id]\n",
    "\n",
    "        return get_sequences(\n",
    "            user_id,\n",
    "            profile,\n",
    "            self.profile_seq_len,\n",
    "            self.target_seq_len,\n",
    "            self.attrs,\n",
    "            self.ctx,\n",
    "            self.mode\n",
    "        )\n",
    "    \n",
    "    def valid_user_ids(self, profiles: Dict[int, List[int]], mode: str) -> List[int]:\n",
    "        return [uid for uid, profile in profiles.items() if one_out_idx(profile, mode) != -1]"
   ]
  },
  {
   "cell_type": "code",
   "execution_count": 17,
   "metadata": {},
   "outputs": [],
   "source": [
    "attrs = load_attrs(\"video_games\")\n",
    "ctx = load_ctx(\"video_games\")\n",
    "user_ids, item_ids, profiles = load_profiles(\"video_games\")"
   ]
  },
  {
   "cell_type": "code",
   "execution_count": 152,
   "metadata": {},
   "outputs": [],
   "source": [
    "dataset = CARCADataset(user_ids, item_ids, profiles, attrs, ctx, 20, 100, \"train\")"
   ]
  },
  {
   "cell_type": "code",
   "execution_count": 161,
   "metadata": {},
   "outputs": [],
   "source": [
    "loader = DataLoader(dataset, batch_size=8, shuffle=True)"
   ]
  },
  {
   "cell_type": "code",
   "execution_count": 164,
   "metadata": {},
   "outputs": [],
   "source": [
    "p_x, o_x, p_q, o_q, y_true, mask = next(iter(loader))"
   ]
  },
  {
   "cell_type": "code",
   "execution_count": 153,
   "metadata": {},
   "outputs": [],
   "source": [
    "for i in range(len(dataset)):\n",
    "    p_x, o_x, p_q, o_q, y_true, mask = dataset[i]\n",
    "    break"
   ]
  }
 ],
 "metadata": {
  "interpreter": {
   "hash": "59d02302364d92722781df083a4418cc03ba7c19172f04d4c159339a6c8436ad"
  },
  "kernelspec": {
   "display_name": "Python 3.9.13 ('replication_study')",
   "language": "python",
   "name": "python3"
  },
  "language_info": {
   "codemirror_mode": {
    "name": "ipython",
    "version": 3
   },
   "file_extension": ".py",
   "mimetype": "text/x-python",
   "name": "python",
   "nbconvert_exporter": "python",
   "pygments_lexer": "ipython3",
   "version": "3.9.13"
  },
  "orig_nbformat": 4
 },
 "nbformat": 4,
 "nbformat_minor": 2
}
