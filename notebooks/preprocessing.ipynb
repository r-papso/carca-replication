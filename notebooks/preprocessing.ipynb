{
 "cells": [
  {
   "cell_type": "code",
   "execution_count": 1,
   "metadata": {},
   "outputs": [],
   "source": [
    "import pandas as pd\n",
    "import numpy as np\n",
    "import pickle"
   ]
  },
  {
   "cell_type": "code",
   "execution_count": 2,
   "metadata": {},
   "outputs": [],
   "source": [
    "folder = \"industrial_and_scientific\"\n",
    "mode = \"all\""
   ]
  },
  {
   "cell_type": "code",
   "execution_count": 3,
   "metadata": {},
   "outputs": [],
   "source": [
    "reviews = pd.read_pickle(f\"../../data/{folder}/reviews_{mode}.p\")\n",
    "onehot = pd.read_pickle(f\"../../data/{folder}/onehot_{mode}.p\")\n",
    "sbert = pickle.load(open(f\"../../data/{folder}/sbert_{mode}.p\", \"rb\"))"
   ]
  },
  {
   "cell_type": "code",
   "execution_count": 4,
   "metadata": {},
   "outputs": [],
   "source": [
    "uuids, uiids = reviews[\"user_id\"].unique(), reviews[\"asin\"].unique()"
   ]
  },
  {
   "cell_type": "code",
   "execution_count": 5,
   "metadata": {},
   "outputs": [],
   "source": [
    "user_map = dict(zip(uuids, list(range(1, len(uuids) + 1))))\n",
    "item_map = dict(zip(uiids, list(range(1, len(uiids) + 1))))"
   ]
  },
  {
   "cell_type": "code",
   "execution_count": 6,
   "metadata": {},
   "outputs": [],
   "source": [
    "pickle.dump(user_map, open(f\"../../data/{folder}/usermap_{mode}.p\", \"wb\"))\n",
    "pickle.dump(item_map, open(f\"../../data/{folder}/itemmap_{mode}.p\", \"wb\"))"
   ]
  },
  {
   "cell_type": "code",
   "execution_count": 7,
   "metadata": {},
   "outputs": [],
   "source": [
    "r_sorted = reviews.sort_values(\"timestamp\")\n",
    "r_sorted[\"iid\"] = r_sorted[\"asin\"].map(item_map)\n",
    "r_sorted[\"uid\"] = r_sorted[\"user_id\"].map(user_map)"
   ]
  },
  {
   "cell_type": "code",
   "execution_count": 8,
   "metadata": {},
   "outputs": [],
   "source": [
    "r_sorted[\"date\"] = pd.to_datetime(r_sorted[\"timestamp\"], unit=\"s\")\n",
    "r_sorted[\"year\"], r_sorted[\"month\"], r_sorted[\"day\"], r_sorted[\"dayofweek\"], r_sorted[\"dayofyear\"], r_sorted[\"week\"] = zip(*r_sorted[\"date\"].map(lambda x: [x.year, x.month, x.day, x.dayofweek, x.dayofyear, x.week]))\n",
    "\n",
    "norm_cols = [\"year\", \"month\", \"day\", \"dayofweek\", \"dayofyear\", \"week\"]\n",
    "r_sorted[norm_cols] = r_sorted[norm_cols].apply(lambda x: (x - x.min()) / (x.max() - x.min()))"
   ]
  },
  {
   "cell_type": "code",
   "execution_count": 9,
   "metadata": {},
   "outputs": [],
   "source": [
    "ctx = {}\n",
    "for t in r_sorted.itertuples():\n",
    "    ctx[(t.uid, t.iid)] = [t.year, t.month, t.day, t.dayofweek, t.dayofyear, t.week]"
   ]
  },
  {
   "cell_type": "code",
   "execution_count": 10,
   "metadata": {},
   "outputs": [],
   "source": [
    "onehot[\"iid\"] = onehot[\"asin\"].map(item_map)\n",
    "onehot_np = onehot.sort_values(\"iid\").drop([\"asin\", \"iid\"], axis=1).to_numpy()"
   ]
  },
  {
   "cell_type": "code",
   "execution_count": 11,
   "metadata": {},
   "outputs": [],
   "source": [
    "sbert_t = [(k, v) for k, v in sbert.items()]\n",
    "sbert_df = pd.DataFrame(sbert_t, columns=[\"asin\", \"embedding\"])\n",
    "sbert_df[\"iid\"] = sbert_df[\"asin\"].map(item_map)\n",
    "sbert_np = np.stack(sbert_df.sort_values(\"iid\")[\"embedding\"].to_numpy())"
   ]
  },
  {
   "cell_type": "code",
   "execution_count": 12,
   "metadata": {},
   "outputs": [],
   "source": [
    "dummpy_np = np.zeros((sbert_np.shape[0], 1), dtype=np.float32)"
   ]
  },
  {
   "cell_type": "code",
   "execution_count": 13,
   "metadata": {},
   "outputs": [
    {
     "data": {
      "text/plain": [
       "1711934"
      ]
     },
     "execution_count": 13,
     "metadata": {},
     "output_type": "execute_result"
    }
   ],
   "source": [
    "len(reviews)"
   ]
  },
  {
   "cell_type": "code",
   "execution_count": 14,
   "metadata": {},
   "outputs": [],
   "source": [
    "with open(f\"../../data/{folder}/profiles_{mode}.txt\", \"w\") as dst:\n",
    "    for t in r_sorted.itertuples():\n",
    "        uid = user_map[t.user_id]\n",
    "        iid = item_map[t.asin]\n",
    "        dst.write(f\"{uid} {iid} {t.timestamp}\\n\")"
   ]
  },
  {
   "cell_type": "code",
   "execution_count": 15,
   "metadata": {},
   "outputs": [],
   "source": [
    "with open(f\"../../data/{folder}/ctx_{mode}.dat\", 'wb') as f:\n",
    "    pickle.dump(ctx, f)"
   ]
  },
  {
   "cell_type": "code",
   "execution_count": 16,
   "metadata": {},
   "outputs": [],
   "source": [
    "with open(f\"../../data/{folder}/onehot_{mode}.dat\", 'wb') as f:\n",
    "    pickle.dump(onehot_np, f)"
   ]
  },
  {
   "cell_type": "code",
   "execution_count": 17,
   "metadata": {},
   "outputs": [],
   "source": [
    "with open(f\"../../data/{folder}/sbert_{mode}.dat\", 'wb') as f:\n",
    "    pickle.dump(sbert_np, f)"
   ]
  },
  {
   "cell_type": "code",
   "execution_count": 18,
   "metadata": {},
   "outputs": [],
   "source": [
    "with open(f\"../../data/{folder}/dummy_{mode}.dat\", 'wb') as f:\n",
    "    pickle.dump(dummpy_np, f)"
   ]
  }
 ],
 "metadata": {
  "kernelspec": {
   "display_name": "carca",
   "language": "python",
   "name": "python3"
  },
  "language_info": {
   "codemirror_mode": {
    "name": "ipython",
    "version": 3
   },
   "file_extension": ".py",
   "mimetype": "text/x-python",
   "name": "python",
   "nbconvert_exporter": "python",
   "pygments_lexer": "ipython3",
   "version": "3.9.16"
  },
  "orig_nbformat": 4,
  "vscode": {
   "interpreter": {
    "hash": "0bbae565f9d672b25c68411e3d522594c4314bec3b492d48aedbd4f79f0058f5"
   }
  }
 },
 "nbformat": 4,
 "nbformat_minor": 2
}
