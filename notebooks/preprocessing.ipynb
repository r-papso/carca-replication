{
 "cells": [
  {
   "cell_type": "code",
   "execution_count": 2,
   "metadata": {},
   "outputs": [],
   "source": [
    "import pandas as pd\n",
    "import numpy as np\n",
    "import pickle"
   ]
  },
  {
   "cell_type": "code",
   "execution_count": 3,
   "metadata": {},
   "outputs": [],
   "source": [
    "reviews = pd.read_pickle(\"../../data/embedding_experiment/video_games/video_games_reviews_5core.p\")\n",
    "onehot = pd.read_pickle(\"../../data/embedding_experiment/video_games/video_games_onehot_5core.p\")\n",
    "sbert = pickle.load(open(\"../../data/embedding_experiment/video_games/video_games_sbert_5core.p\", \"rb\"))"
   ]
  },
  {
   "cell_type": "code",
   "execution_count": 6,
   "metadata": {},
   "outputs": [],
   "source": [
    "uuids, uiids = reviews[\"user_id\"].unique(), reviews[\"asin\"].unique()"
   ]
  },
  {
   "cell_type": "code",
   "execution_count": 7,
   "metadata": {},
   "outputs": [],
   "source": [
    "user_map = dict(zip(uuids, list(range(1, len(uuids) + 1))))\n",
    "item_map = dict(zip(uiids, list(range(1, len(uiids) + 1))))"
   ]
  },
  {
   "cell_type": "code",
   "execution_count": 12,
   "metadata": {},
   "outputs": [],
   "source": [
    "pickle.dump(user_map, open(\"../../data/embedding_experiment/video_games/video_games_usermap_5core.p\", \"wb\"))\n",
    "pickle.dump(item_map, open(\"../../data/embedding_experiment/video_games/video_games_itemmap_5core.p\", \"wb\"))"
   ]
  },
  {
   "cell_type": "code",
   "execution_count": 13,
   "metadata": {},
   "outputs": [],
   "source": [
    "r_sorted = reviews.sort_values(\"timestamp\")\n",
    "r_sorted[\"iid\"] = r_sorted[\"asin\"].map(item_map)\n",
    "r_sorted[\"uid\"] = r_sorted[\"user_id\"].map(user_map)"
   ]
  },
  {
   "cell_type": "code",
   "execution_count": 14,
   "metadata": {},
   "outputs": [],
   "source": [
    "r_sorted[\"date\"] = pd.to_datetime(r_sorted[\"timestamp\"], unit=\"s\")\n",
    "r_sorted[\"year\"], r_sorted[\"month\"], r_sorted[\"day\"], r_sorted[\"dayofweek\"], r_sorted[\"dayofyear\"], r_sorted[\"week\"] = zip(*r_sorted[\"date\"].map(lambda x: [x.year, x.month, x.day, x.dayofweek, x.dayofyear, x.week]))\n",
    "\n",
    "norm_cols = [\"year\", \"month\", \"day\", \"dayofweek\", \"dayofyear\", \"week\"]\n",
    "r_sorted[norm_cols] = r_sorted[norm_cols].apply(lambda x: (x - x.min()) / (x.max() - x.min()))"
   ]
  },
  {
   "cell_type": "code",
   "execution_count": 16,
   "metadata": {},
   "outputs": [],
   "source": [
    "ctx = {}\n",
    "for t in r_sorted.itertuples():\n",
    "    ctx[(t.uid, t.iid)] = [t.year, t.month, t.day, t.dayofweek, t.dayofyear, t.week]"
   ]
  },
  {
   "cell_type": "code",
   "execution_count": 17,
   "metadata": {},
   "outputs": [],
   "source": [
    "onehot[\"iid\"] = onehot[\"asin\"].map(item_map)\n",
    "onehot_np = onehot.sort_values(\"iid\").drop([\"asin\", \"iid\"], axis=1).to_numpy()"
   ]
  },
  {
   "cell_type": "code",
   "execution_count": 18,
   "metadata": {},
   "outputs": [],
   "source": [
    "sbert_t = [(k, v) for k, v in sbert.items()]\n",
    "sbert_df = pd.DataFrame(sbert_t, columns=[\"asin\", \"embedding\"])\n",
    "sbert_df[\"iid\"] = sbert_df[\"asin\"].map(item_map)\n",
    "sbert_np = np.stack(sbert_df.sort_values(\"iid\")[\"embedding\"].to_numpy())"
   ]
  },
  {
   "cell_type": "code",
   "execution_count": 26,
   "metadata": {},
   "outputs": [
    {
     "data": {
      "text/plain": [
       "526400"
      ]
     },
     "execution_count": 26,
     "metadata": {},
     "output_type": "execute_result"
    }
   ],
   "source": [
    "len(reviews)"
   ]
  },
  {
   "cell_type": "code",
   "execution_count": 24,
   "metadata": {},
   "outputs": [
    {
     "data": {
      "text/html": [
       "<div>\n",
       "<style scoped>\n",
       "    .dataframe tbody tr th:only-of-type {\n",
       "        vertical-align: middle;\n",
       "    }\n",
       "\n",
       "    .dataframe tbody tr th {\n",
       "        vertical-align: top;\n",
       "    }\n",
       "\n",
       "    .dataframe thead th {\n",
       "        text-align: right;\n",
       "    }\n",
       "</style>\n",
       "<table border=\"1\" class=\"dataframe\">\n",
       "  <thead>\n",
       "    <tr style=\"text-align: right;\">\n",
       "      <th></th>\n",
       "      <th>user_id</th>\n",
       "      <th>timestamp</th>\n",
       "    </tr>\n",
       "    <tr>\n",
       "      <th>asin</th>\n",
       "      <th></th>\n",
       "      <th></th>\n",
       "    </tr>\n",
       "  </thead>\n",
       "  <tbody>\n",
       "    <tr>\n",
       "      <th>0439381673</th>\n",
       "      <td>5</td>\n",
       "      <td>5</td>\n",
       "    </tr>\n",
       "    <tr>\n",
       "      <th>0439573947</th>\n",
       "      <td>1</td>\n",
       "      <td>1</td>\n",
       "    </tr>\n",
       "    <tr>\n",
       "      <th>0439591538</th>\n",
       "      <td>2</td>\n",
       "      <td>2</td>\n",
       "    </tr>\n",
       "    <tr>\n",
       "      <th>0439900581</th>\n",
       "      <td>1</td>\n",
       "      <td>1</td>\n",
       "    </tr>\n",
       "    <tr>\n",
       "      <th>0700026398</th>\n",
       "      <td>10</td>\n",
       "      <td>10</td>\n",
       "    </tr>\n",
       "    <tr>\n",
       "      <th>...</th>\n",
       "      <td>...</td>\n",
       "      <td>...</td>\n",
       "    </tr>\n",
       "    <tr>\n",
       "      <th>B01HIZF83S</th>\n",
       "      <td>1</td>\n",
       "      <td>1</td>\n",
       "    </tr>\n",
       "    <tr>\n",
       "      <th>B01HIZGKOE</th>\n",
       "      <td>6</td>\n",
       "      <td>6</td>\n",
       "    </tr>\n",
       "    <tr>\n",
       "      <th>B01HJ149LI</th>\n",
       "      <td>2</td>\n",
       "      <td>2</td>\n",
       "    </tr>\n",
       "    <tr>\n",
       "      <th>B01HJC33WS</th>\n",
       "      <td>4</td>\n",
       "      <td>4</td>\n",
       "    </tr>\n",
       "    <tr>\n",
       "      <th>B01HJEBIAA</th>\n",
       "      <td>3</td>\n",
       "      <td>3</td>\n",
       "    </tr>\n",
       "  </tbody>\n",
       "</table>\n",
       "<p>33455 rows × 2 columns</p>\n",
       "</div>"
      ],
      "text/plain": [
       "            user_id  timestamp\n",
       "asin                          \n",
       "0439381673        5          5\n",
       "0439573947        1          1\n",
       "0439591538        2          2\n",
       "0439900581        1          1\n",
       "0700026398       10         10\n",
       "...             ...        ...\n",
       "B01HIZF83S        1          1\n",
       "B01HIZGKOE        6          6\n",
       "B01HJ149LI        2          2\n",
       "B01HJC33WS        4          4\n",
       "B01HJEBIAA        3          3\n",
       "\n",
       "[33455 rows x 2 columns]"
      ]
     },
     "execution_count": 24,
     "metadata": {},
     "output_type": "execute_result"
    }
   ],
   "source": [
    "reviews.groupby(\"asin\").count()"
   ]
  },
  {
   "cell_type": "code",
   "execution_count": null,
   "metadata": {},
   "outputs": [],
   "source": [
    "reviews"
   ]
  },
  {
   "cell_type": "code",
   "execution_count": 19,
   "metadata": {},
   "outputs": [],
   "source": [
    "with open(\"../../data/embedding_experiment/video_games/video_games_sorted_5core.txt\", \"w\") as dst:\n",
    "    for t in r_sorted.itertuples():\n",
    "        uid = user_map[t.user_id]\n",
    "        iid = item_map[t.asin]\n",
    "        dst.write(f\"{uid} {iid} {t.timestamp}\\n\")"
   ]
  },
  {
   "cell_type": "code",
   "execution_count": 20,
   "metadata": {},
   "outputs": [],
   "source": [
    "with open(\"../../data/embedding_experiment/video_games/video_games_ctx_5core.dat\", 'wb') as f:\n",
    "    pickle.dump(ctx, f)"
   ]
  },
  {
   "cell_type": "code",
   "execution_count": 21,
   "metadata": {},
   "outputs": [],
   "source": [
    "with open(\"../../data/embedding_experiment/video_games/video_games_onehot_5core.dat\", 'wb') as f:\n",
    "    pickle.dump(onehot_np, f)"
   ]
  },
  {
   "cell_type": "code",
   "execution_count": 22,
   "metadata": {},
   "outputs": [],
   "source": [
    "with open(\"../../data/embedding_experiment/video_games/video_games_sbert_5core.dat\", 'wb') as f:\n",
    "    pickle.dump(sbert_np, f)"
   ]
  }
 ],
 "metadata": {
  "kernelspec": {
   "display_name": "carca",
   "language": "python",
   "name": "python3"
  },
  "language_info": {
   "codemirror_mode": {
    "name": "ipython",
    "version": 3
   },
   "file_extension": ".py",
   "mimetype": "text/x-python",
   "name": "python",
   "nbconvert_exporter": "python",
   "pygments_lexer": "ipython3",
   "version": "3.9.16"
  },
  "orig_nbformat": 4,
  "vscode": {
   "interpreter": {
    "hash": "0bbae565f9d672b25c68411e3d522594c4314bec3b492d48aedbd4f79f0058f5"
   }
  }
 },
 "nbformat": 4,
 "nbformat_minor": 2
}
