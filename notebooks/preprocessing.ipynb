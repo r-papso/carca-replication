{
 "cells": [
  {
   "cell_type": "code",
   "execution_count": 1,
   "metadata": {},
   "outputs": [],
   "source": [
    "import pandas as pd\n",
    "import numpy as np\n",
    "import pickle"
   ]
  },
  {
   "cell_type": "code",
   "execution_count": 2,
   "metadata": {},
   "outputs": [],
   "source": [
    "folder = \"musical_instruments\""
   ]
  },
  {
   "cell_type": "code",
   "execution_count": 3,
   "metadata": {},
   "outputs": [],
   "source": [
    "reviews = pd.read_pickle(f\"../../data/{folder}/reviews_5.p\")\n",
    "onehot = pd.read_pickle(f\"../../data/{folder}/onehot_5.p\")\n",
    "sbert = pickle.load(open(f\"../../data/{folder}/sbert_5.p\", \"rb\"))"
   ]
  },
  {
   "cell_type": "code",
   "execution_count": 4,
   "metadata": {},
   "outputs": [],
   "source": [
    "uuids, uiids = reviews[\"user_id\"].unique(), reviews[\"asin\"].unique()"
   ]
  },
  {
   "cell_type": "code",
   "execution_count": 5,
   "metadata": {},
   "outputs": [],
   "source": [
    "user_map = dict(zip(uuids, list(range(1, len(uuids) + 1))))\n",
    "item_map = dict(zip(uiids, list(range(1, len(uiids) + 1))))"
   ]
  },
  {
   "cell_type": "code",
   "execution_count": 6,
   "metadata": {},
   "outputs": [],
   "source": [
    "pickle.dump(user_map, open(f\"../../data/{folder}/usermap_5.p\", \"wb\"))\n",
    "pickle.dump(item_map, open(f\"../../data/{folder}/itemmap_5.p\", \"wb\"))"
   ]
  },
  {
   "cell_type": "code",
   "execution_count": 7,
   "metadata": {},
   "outputs": [],
   "source": [
    "r_sorted = reviews.sort_values(\"timestamp\")\n",
    "r_sorted[\"iid\"] = r_sorted[\"asin\"].map(item_map)\n",
    "r_sorted[\"uid\"] = r_sorted[\"user_id\"].map(user_map)"
   ]
  },
  {
   "cell_type": "code",
   "execution_count": 8,
   "metadata": {},
   "outputs": [],
   "source": [
    "r_sorted[\"date\"] = pd.to_datetime(r_sorted[\"timestamp\"], unit=\"s\")\n",
    "r_sorted[\"year\"], r_sorted[\"month\"], r_sorted[\"day\"], r_sorted[\"dayofweek\"], r_sorted[\"dayofyear\"], r_sorted[\"week\"] = zip(*r_sorted[\"date\"].map(lambda x: [x.year, x.month, x.day, x.dayofweek, x.dayofyear, x.week]))\n",
    "\n",
    "norm_cols = [\"year\", \"month\", \"day\", \"dayofweek\", \"dayofyear\", \"week\"]\n",
    "r_sorted[norm_cols] = r_sorted[norm_cols].apply(lambda x: (x - x.min()) / (x.max() - x.min()))"
   ]
  },
  {
   "cell_type": "code",
   "execution_count": 9,
   "metadata": {},
   "outputs": [],
   "source": [
    "ctx = {}\n",
    "for t in r_sorted.itertuples():\n",
    "    ctx[(t.uid, t.iid)] = [t.year, t.month, t.day, t.dayofweek, t.dayofyear, t.week]"
   ]
  },
  {
   "cell_type": "code",
   "execution_count": 10,
   "metadata": {},
   "outputs": [],
   "source": [
    "onehot[\"iid\"] = onehot[\"asin\"].map(item_map)\n",
    "onehot_np = onehot.sort_values(\"iid\").drop([\"asin\", \"iid\"], axis=1).to_numpy()"
   ]
  },
  {
   "cell_type": "code",
   "execution_count": 11,
   "metadata": {},
   "outputs": [],
   "source": [
    "sbert_t = [(k, v) for k, v in sbert.items()]\n",
    "sbert_df = pd.DataFrame(sbert_t, columns=[\"asin\", \"embedding\"])\n",
    "sbert_df[\"iid\"] = sbert_df[\"asin\"].map(item_map)\n",
    "sbert_np = np.stack(sbert_df.sort_values(\"iid\")[\"embedding\"].to_numpy())"
   ]
  },
  {
   "cell_type": "code",
   "execution_count": 12,
   "metadata": {},
   "outputs": [
    {
     "data": {
      "text/plain": [
       "231312"
      ]
     },
     "execution_count": 12,
     "metadata": {},
     "output_type": "execute_result"
    }
   ],
   "source": [
    "len(reviews)"
   ]
  },
  {
   "cell_type": "code",
   "execution_count": 14,
   "metadata": {},
   "outputs": [
    {
     "data": {
      "text/html": [
       "<div>\n",
       "<style scoped>\n",
       "    .dataframe tbody tr th:only-of-type {\n",
       "        vertical-align: middle;\n",
       "    }\n",
       "\n",
       "    .dataframe tbody tr th {\n",
       "        vertical-align: top;\n",
       "    }\n",
       "\n",
       "    .dataframe thead th {\n",
       "        text-align: right;\n",
       "    }\n",
       "</style>\n",
       "<table border=\"1\" class=\"dataframe\">\n",
       "  <thead>\n",
       "    <tr style=\"text-align: right;\">\n",
       "      <th></th>\n",
       "      <th>user_id</th>\n",
       "      <th>asin</th>\n",
       "      <th>timestamp</th>\n",
       "    </tr>\n",
       "  </thead>\n",
       "  <tbody>\n",
       "    <tr>\n",
       "      <th>0</th>\n",
       "      <td>A1043FF66MCAW6</td>\n",
       "      <td>8288853439</td>\n",
       "      <td>1407801600</td>\n",
       "    </tr>\n",
       "    <tr>\n",
       "      <th>1</th>\n",
       "      <td>A2C9H5QRLXXICT</td>\n",
       "      <td>8288853439</td>\n",
       "      <td>1402531200</td>\n",
       "    </tr>\n",
       "    <tr>\n",
       "      <th>2</th>\n",
       "      <td>ABVQ1EZPPHZ5F</td>\n",
       "      <td>8288853439</td>\n",
       "      <td>1394928000</td>\n",
       "    </tr>\n",
       "    <tr>\n",
       "      <th>3</th>\n",
       "      <td>A3FMA2AFK85NMX</td>\n",
       "      <td>8288853439</td>\n",
       "      <td>1393286400</td>\n",
       "    </tr>\n",
       "    <tr>\n",
       "      <th>4</th>\n",
       "      <td>A2KO38Z0GOBHUD</td>\n",
       "      <td>8288853439</td>\n",
       "      <td>1392249600</td>\n",
       "    </tr>\n",
       "    <tr>\n",
       "      <th>...</th>\n",
       "      <td>...</td>\n",
       "      <td>...</td>\n",
       "      <td>...</td>\n",
       "    </tr>\n",
       "    <tr>\n",
       "      <th>1128262</th>\n",
       "      <td>A1SB9ORLJQZLEQ</td>\n",
       "      <td>B01HDZIBH8</td>\n",
       "      <td>1538265600</td>\n",
       "    </tr>\n",
       "    <tr>\n",
       "      <th>1128263</th>\n",
       "      <td>AQQAISCHOH5GQ</td>\n",
       "      <td>B01HFNMG10</td>\n",
       "      <td>1537747200</td>\n",
       "    </tr>\n",
       "    <tr>\n",
       "      <th>1128264</th>\n",
       "      <td>A20D3MES4T2LTE</td>\n",
       "      <td>B01HFNMG10</td>\n",
       "      <td>1535414400</td>\n",
       "    </tr>\n",
       "    <tr>\n",
       "      <th>1128265</th>\n",
       "      <td>A2ZA4Q8VJKQOQW</td>\n",
       "      <td>B01HFPO0L2</td>\n",
       "      <td>1533945600</td>\n",
       "    </tr>\n",
       "    <tr>\n",
       "      <th>1128266</th>\n",
       "      <td>A1VKZX0KV1W5PB</td>\n",
       "      <td>B01HFPO0L2</td>\n",
       "      <td>1494720000</td>\n",
       "    </tr>\n",
       "  </tbody>\n",
       "</table>\n",
       "<p>1128267 rows × 3 columns</p>\n",
       "</div>"
      ],
      "text/plain": [
       "                user_id        asin   timestamp\n",
       "0        A1043FF66MCAW6  8288853439  1407801600\n",
       "1        A2C9H5QRLXXICT  8288853439  1402531200\n",
       "2         ABVQ1EZPPHZ5F  8288853439  1394928000\n",
       "3        A3FMA2AFK85NMX  8288853439  1393286400\n",
       "4        A2KO38Z0GOBHUD  8288853439  1392249600\n",
       "...                 ...         ...         ...\n",
       "1128262  A1SB9ORLJQZLEQ  B01HDZIBH8  1538265600\n",
       "1128263   AQQAISCHOH5GQ  B01HFNMG10  1537747200\n",
       "1128264  A20D3MES4T2LTE  B01HFNMG10  1535414400\n",
       "1128265  A2ZA4Q8VJKQOQW  B01HFPO0L2  1533945600\n",
       "1128266  A1VKZX0KV1W5PB  B01HFPO0L2  1494720000\n",
       "\n",
       "[1128267 rows x 3 columns]"
      ]
     },
     "execution_count": 14,
     "metadata": {},
     "output_type": "execute_result"
    }
   ],
   "source": [
    "reviews"
   ]
  },
  {
   "cell_type": "code",
   "execution_count": 13,
   "metadata": {},
   "outputs": [],
   "source": [
    "with open(f\"../../data/{folder}/profiles_5.txt\", \"w\") as dst:\n",
    "    for t in r_sorted.itertuples():\n",
    "        uid = user_map[t.user_id]\n",
    "        iid = item_map[t.asin]\n",
    "        dst.write(f\"{uid} {iid} {t.timestamp}\\n\")"
   ]
  },
  {
   "cell_type": "code",
   "execution_count": 14,
   "metadata": {},
   "outputs": [],
   "source": [
    "with open(f\"../../data/{folder}/ctx_5.dat\", 'wb') as f:\n",
    "    pickle.dump(ctx, f)"
   ]
  },
  {
   "cell_type": "code",
   "execution_count": 15,
   "metadata": {},
   "outputs": [],
   "source": [
    "with open(f\"../../data/{folder}/onehot_5.dat\", 'wb') as f:\n",
    "    pickle.dump(onehot_np, f)"
   ]
  },
  {
   "cell_type": "code",
   "execution_count": 16,
   "metadata": {},
   "outputs": [],
   "source": [
    "with open(f\"../../data/{folder}/sbert_5.dat\", 'wb') as f:\n",
    "    pickle.dump(sbert_np, f)"
   ]
  }
 ],
 "metadata": {
  "kernelspec": {
   "display_name": "carca",
   "language": "python",
   "name": "python3"
  },
  "language_info": {
   "codemirror_mode": {
    "name": "ipython",
    "version": 3
   },
   "file_extension": ".py",
   "mimetype": "text/x-python",
   "name": "python",
   "nbconvert_exporter": "python",
   "pygments_lexer": "ipython3",
   "version": "3.9.16"
  },
  "orig_nbformat": 4,
  "vscode": {
   "interpreter": {
    "hash": "0bbae565f9d672b25c68411e3d522594c4314bec3b492d48aedbd4f79f0058f5"
   }
  }
 },
 "nbformat": 4,
 "nbformat_minor": 2
}
