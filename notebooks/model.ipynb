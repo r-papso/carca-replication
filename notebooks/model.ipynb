{
 "cells": [
  {
   "cell_type": "code",
   "execution_count": 2,
   "metadata": {},
   "outputs": [],
   "source": [
    "import torch\n",
    "import torch.nn as nn"
   ]
  },
  {
   "cell_type": "code",
   "execution_count": null,
   "metadata": {},
   "outputs": [],
   "source": [
    "class Embeddings(nn.Module):\n",
    "    def __init__(self, n_items: int, d: int, g: int, n_ctx: int, n_attrs: int):\n",
    "        super().__init__()\n",
    "\n",
    "        self.items_embed = nn.Embedding(num_embeddings=n_items + 1, embedding_dim=d, padding_idx=0)\n",
    "        self.feats_embed = nn.Linear(in_features=n_ctx + n_attrs, out_features=g)\n",
    "        self.joint_embed = nn.Linear(in_features=g + d, out_features=d)\n",
    "\n",
    "    def forward(self, x, q):\n",
    "        z = self.items_embed(x)\n",
    "        q = self.feats_embed(q)\n",
    "        e = self.joint_embed(torch.cat((z, q), dim=-1))\n",
    "        return e"
   ]
  },
  {
   "cell_type": "code",
   "execution_count": null,
   "metadata": {},
   "outputs": [],
   "source": [
    "# Profile-level self-attention block\n",
    "class SelfAttentionBlock(nn.Module):\n",
    "    def __init__(self, d: int, H: int, p: float):\n",
    "        super().__init__()\n",
    "\n",
    "        # Attention\n",
    "        self.norm1 = nn.LayerNorm(normalized_shape=d)\n",
    "        self.attention = nn.MultiheadAttention(embed_dim=d, num_heads=H)\n",
    "        self.dropout1 = nn.Dropout(p=p)\n",
    "\n",
    "        # FFN\n",
    "        self.norm2 = nn.LayerNorm(normalized_shape=d)\n",
    "        self.ffn_1 = nn.Conv1d(in_channels=d, out_channels=d, kernel_size=1)\n",
    "        self.activation = nn.LeakyReLU()\n",
    "        self.dropout2 = nn.Dropout(p=p)\n",
    "\n",
    "        self.ffn_2 = nn.Conv1d(in_channels=d, out_channels=d, kernel_size=1)\n",
    "        self.dropout3 = nn.Dropout(p=p)\n",
    "        self.norm3 = nn.LayerNorm(normalized_shape=d)\n",
    "\n",
    "    def forward(self, x):\n",
    "        q = self.norm1(x)\n",
    "\n",
    "        s = self.attention(q, x, x)\n",
    "        s = self.dropout1(s)\n",
    "\n",
    "        s = torch.mul(s, x)  # Multiplicative residual connection\n",
    "        s = self.norm2(s)\n",
    "\n",
    "        f = self.ffn_1(f)\n",
    "        f = self.activation(f)\n",
    "        f = self.dropout2(f)\n",
    "\n",
    "        f = self.ffn_2(f)\n",
    "        f = self.dropout3(f)\n",
    "\n",
    "        f = torch.mul(f, s)  # Multiplicative residual connection\n",
    "        f = self.norm3(f)\n",
    "\n",
    "        return f"
   ]
  },
  {
   "cell_type": "code",
   "execution_count": null,
   "metadata": {},
   "outputs": [],
   "source": [
    "# Target-level cross-attention block\n",
    "class CrossAttentionBlock(nn.Module):\n",
    "    def __init__(self, d: int, H: int, p: float):\n",
    "        super().__init__()\n",
    "\n",
    "        # Attention\n",
    "        self.attention = nn.MultiheadAttention(embed_dim=d, num_heads=H)\n",
    "        self.dropout = nn.Dropout(p=p)\n",
    "\n",
    "        # FFN\n",
    "        self.ffn = nn.Conv1d(in_channels=d, out_channels=d, kernel_size=1)\n",
    "        self.sig = nn.Sigmoid()\n",
    "    \n",
    "    def forward(self, e, f):\n",
    "        s = self.attention(e, f, f)\n",
    "        s = self.dropout(s)\n",
    "\n",
    "        s = torch.mul(s, e)  # Multiplicative residual connection\n",
    "\n",
    "        y = self.ffn(s)\n",
    "        y = self.sig(y)\n",
    "\n",
    "        return y"
   ]
  },
  {
   "cell_type": "code",
   "execution_count": null,
   "metadata": {},
   "outputs": [],
   "source": [
    "class CARCA(nn.Module):\n",
    "    def __init__(self, n_items: int, d: int, g: int, n_ctx: int, n_attrs: int, H: int, p: float, B: int):\n",
    "        super().__init__()\n",
    "\n",
    "        \n",
    "        self.embeds = Embeddings(n_items, d, g, n_ctx, n_attrs)\n",
    "        self.sa_blocks = nn.Sequential(*[SelfAttentionBlock(d, H, p) for _ in range(B)])\n",
    "        self.ca_blocks = CrossAttentionBlock(d, H, p)\n",
    "    \n",
    "    def forward(self, p_x, p_q, o_x, o_q):\n",
    "        p_e = self.embeds(p_x, p_q)\n",
    "        o_e = self.embeds(o_x, o_q)\n",
    "        \n",
    "        f = self.sa_blocks(p_e)\n",
    "        y_pred = self.ca_blocks(o_e, f)\n",
    "\n",
    "        return y_pred"
   ]
  },
  {
   "cell_type": "code",
   "execution_count": null,
   "metadata": {},
   "outputs": [],
   "source": [
    "class BinaryCrossEntropy(nn.Module):\n",
    "    def __init__(self):\n",
    "        super().__init__()\n",
    "    \n",
    "    def forward(self, y_true, y_pred, mask):\n",
    "        loss = -(y_true * torch.log(y_pred) + (1.0 - y_true) * torch.log(1.0 - y_pred))\n",
    "        loss = torch.sum(loss * mask)\n",
    "        return loss"
   ]
  }
 ],
 "metadata": {
  "interpreter": {
   "hash": "59d02302364d92722781df083a4418cc03ba7c19172f04d4c159339a6c8436ad"
  },
  "kernelspec": {
   "display_name": "Python 3.9.13 ('replication_study')",
   "language": "python",
   "name": "python3"
  },
  "language_info": {
   "codemirror_mode": {
    "name": "ipython",
    "version": 3
   },
   "file_extension": ".py",
   "mimetype": "text/x-python",
   "name": "python",
   "nbconvert_exporter": "python",
   "pygments_lexer": "ipython3",
   "version": "3.9.13"
  },
  "orig_nbformat": 4
 },
 "nbformat": 4,
 "nbformat_minor": 2
}
