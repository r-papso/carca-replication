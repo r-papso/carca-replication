{
 "cells": [
  {
   "cell_type": "code",
   "execution_count": 22,
   "metadata": {},
   "outputs": [],
   "source": [
    "import os\n",
    "import sys\n",
    "import torch\n",
    "import torch.nn as nn\n",
    "from torch.utils.data import DataLoader"
   ]
  },
  {
   "cell_type": "code",
   "execution_count": 23,
   "metadata": {},
   "outputs": [],
   "source": [
    "sys.path.append(\"..\")"
   ]
  },
  {
   "cell_type": "code",
   "execution_count": 24,
   "metadata": {},
   "outputs": [],
   "source": [
    "from src.data import CARCADataset, load_attrs, load_ctx, load_profiles, set_datapath\n",
    "from src.carca import AttrCtxEmbedding, AllEmbedding, AttrEmbedding, IdEmbedding\n",
    "from src.carca import IdentityEncoding, LearnableEncoding, PositionalEncoding\n",
    "from src.carca import CARCA, SelfAttentionBlock, CrossAttentionBlock, DotProduct\n",
    "from src.knn import KNN\n",
    "from src.train import train, evaluate\n",
    "from src.utils import to, get_mask"
   ]
  },
  {
   "cell_type": "code",
   "execution_count": 25,
   "metadata": {},
   "outputs": [],
   "source": [
    "DATASET = \"video_games\"\n",
    "MODE = \"sub\""
   ]
  },
  {
   "cell_type": "code",
   "execution_count": 26,
   "metadata": {},
   "outputs": [],
   "source": [
    "set_datapath(f\"../../data/{DATASET}\")"
   ]
  },
  {
   "cell_type": "code",
   "execution_count": 27,
   "metadata": {},
   "outputs": [],
   "source": [
    "attrs = load_attrs(f\"dummy_all.dat\")\n",
    "ctx = load_ctx(f\"ctx_all.dat\")\n",
    "user_ids, item_ids, profiles = load_profiles(f\"profiles_{MODE}.txt\")"
   ]
  },
  {
   "cell_type": "code",
   "execution_count": 28,
   "metadata": {},
   "outputs": [],
   "source": [
    "n_items = attrs.shape[0]\n",
    "n_ctx = next(iter(ctx.values())).shape[0]\n",
    "n_attrs = attrs.shape[1]"
   ]
  },
  {
   "cell_type": "code",
   "execution_count": 29,
   "metadata": {},
   "outputs": [],
   "source": [
    "# Hyper-parameters\n",
    "seq_len = 50\n",
    "batch_size = 256"
   ]
  },
  {
   "cell_type": "code",
   "execution_count": 30,
   "metadata": {},
   "outputs": [],
   "source": [
    "test_data = CARCADataset(\n",
    "    user_ids=user_ids,\n",
    "    item_ids=item_ids,\n",
    "    profiles=profiles,\n",
    "    attrs=attrs,\n",
    "    ctx=ctx,\n",
    "    profile_seq_len=seq_len,\n",
    "    target_seq_len=100,\n",
    "    mode=\"test\"\n",
    ")\n",
    "test_loader = DataLoader(test_data, batch_size=batch_size, shuffle=False, num_workers=0)"
   ]
  },
  {
   "cell_type": "code",
   "execution_count": 31,
   "metadata": {},
   "outputs": [],
   "source": [
    "device = \"cuda\"\n",
    "model = torch.load(\"../results/video_games/sub/x_identity_id_dot/005_0.6076_0.3706.pth\")\n",
    "model = model.eval().to(device)"
   ]
  },
  {
   "cell_type": "code",
   "execution_count": 32,
   "metadata": {},
   "outputs": [],
   "source": [
    "k = 10\n",
    "results = []\n",
    "\n",
    "with torch.no_grad():\n",
    "    for batch in test_loader:\n",
    "        p_x, p_a, p_c, o_x, o_a, o_c, y_true = to(*batch, device=device)\n",
    "        y_pred = model.forward(profile=(p_x, p_a, p_c), targets=[(o_x, o_a, o_c)])\n",
    "        \n",
    "        y_pred_sort, idxs = torch.sort(y_pred, descending=True)\n",
    "        y_true_sort = torch.gather(y_true, dim=1, index=idxs)\n",
    "        \n",
    "        hrs = torch.sum(y_true_sort[:, :k], dim=-1).tolist()\n",
    "        ranks = torch.nonzero(y_true_sort)[:, 1]\n",
    "        ndcgs = torch.where(ranks < 10, 1.0 / torch.log2(ranks + 2), 0.0).tolist()\n",
    "        nonzeros = torch.count_nonzero(p_x, dim=-1).tolist()\n",
    "\n",
    "        results.extend(list(zip(hrs, ndcgs, nonzeros)))"
   ]
  },
  {
   "cell_type": "code",
   "execution_count": 103,
   "metadata": {},
   "outputs": [
    {
     "data": {
      "text/plain": [
       "(0.7749788529859584, 0.5705197324770555, 0.3198920911524719)"
      ]
     },
     "execution_count": 103,
     "metadata": {},
     "output_type": "execute_result"
    }
   ],
   "source": [
    "evaluate(model, test_loader, device, 10)"
   ]
  },
  {
   "cell_type": "code",
   "execution_count": 33,
   "metadata": {},
   "outputs": [],
   "source": [
    "with open(\"../results/video_games/sub/sbert_identity_all_dot/results_per_seqlen.txt\", \"w\") as f:\n",
    "    f.writelines([f\"{x[0]} {x[1]} {x[2]}\\n\" for x in results])"
   ]
  }
 ],
 "metadata": {
  "kernelspec": {
   "display_name": "carca",
   "language": "python",
   "name": "python3"
  },
  "language_info": {
   "codemirror_mode": {
    "name": "ipython",
    "version": 3
   },
   "file_extension": ".py",
   "mimetype": "text/x-python",
   "name": "python",
   "nbconvert_exporter": "python",
   "pygments_lexer": "ipython3",
   "version": "3.9.16"
  },
  "orig_nbformat": 4
 },
 "nbformat": 4,
 "nbformat_minor": 2
}
